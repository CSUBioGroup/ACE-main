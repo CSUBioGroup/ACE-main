{
 "cells": [
  {
   "cell_type": "code",
   "execution_count": 1,
   "metadata": {},
   "outputs": [
    {
     "name": "stderr",
     "output_type": "stream",
     "text": [
      "/home/yanxh/anaconda3/envs/torch112/lib/python3.8/site-packages/tqdm/auto.py:22: TqdmWarning: IProgress not found. Please update jupyter and ipywidgets. See https://ipywidgets.readthedocs.io/en/stable/user_install.html\n",
      "  from .autonotebook import tqdm as notebook_tqdm\n"
     ]
    }
   ],
   "source": [
    "%load_ext autoreload\n",
    "%autoreload 2\n",
    "\n",
    "import os\n",
    "import pickle\n",
    "\n",
    "import anndata as ad\n",
    "import numpy as np\n",
    "import pandas as pd\n",
    "import yaml\n",
    "import sys\n",
    "import scanpy as sc\n",
    "import scipy.sparse as sps\n",
    "import scipy.io as sio\n",
    "\n",
    "import scglue\n",
    "import seaborn as sns\n",
    "\n",
    "from os.path import join\n",
    "\n",
    "import matplotlib.pyplot as plt"
   ]
  },
  {
   "cell_type": "code",
   "execution_count": 2,
   "metadata": {},
   "outputs": [],
   "source": [
    "# Path to the data directory\n",
    "root_dir = '/home/yanxh/gitrepo/multi-omics-matching/neurips2021_multimodal_topmethods-main'\n",
    "data_dir = \"/home/sda1/yanxh/data/Seurat_demo_data/pbmc_multiome\"\n",
    "\n",
    "par = {}\n",
    "par['output_pretrain'] = os.path.join(\n",
    "    root_dir, \n",
    "    'output/pretrain/clue/pbmc_mult.clue_train.output_pretrain/')"
   ]
  },
  {
   "cell_type": "code",
   "execution_count": 3,
   "metadata": {},
   "outputs": [
    {
     "data": {
      "text/plain": [
       "((10411, 36601), (10411, 106086), 6940, 3471)"
      ]
     },
     "execution_count": 3,
     "metadata": {},
     "output_type": "execute_result"
    }
   ],
   "source": [
    "# print('Reading `mtx` files...')\n",
    "rna_count_mat = sps.csr_matrix(sio.mmread(join(data_dir, 'rna_mat_count.mtx')).T)\n",
    "atac_count_mat = sps.csr_matrix(sio.mmread(join(data_dir, 'atac_mat_count.mtx')).T)\n",
    "\n",
    "rna_names = pd.read_csv(join(data_dir, 'gene_names.csv'))['x'].to_numpy()\n",
    "atac_names = pd.read_csv(join(data_dir, 'atac_names.csv'))['x'].to_numpy()\n",
    "\n",
    "cell_names = pd.read_csv(join(data_dir, 'cell_names.csv'))['x'].to_numpy()\n",
    "meta_data = pd.read_csv(join(data_dir, 'metadata.csv'), index_col=0)\n",
    "\n",
    "train_idx = pd.read_csv(join(data_dir, 'train_idx.csv'))['0'].to_numpy()\n",
    "test_idx  = pd.read_csv(join(data_dir, 'test_idx.csv'))['0'].to_numpy()\n",
    "\n",
    "rna_count_mat.shape, atac_count_mat.shape, train_idx.size, test_idx.size"
   ]
  },
  {
   "cell_type": "code",
   "execution_count": 4,
   "metadata": {},
   "outputs": [],
   "source": [
    "sys.path.append(os.path.join(root_dir, 'src/match_modality/methods/clue/resources'))\n",
    "import utils"
   ]
  },
  {
   "cell_type": "code",
   "execution_count": 5,
   "metadata": {},
   "outputs": [
    {
     "name": "stdout",
     "output_type": "stream",
     "text": [
      "Reading `h5ad` files...\n"
     ]
    },
    {
     "name": "stderr",
     "output_type": "stream",
     "text": [
      "/tmp/ipykernel_10677/70642580.py:2: FutureWarning: X.dtype being converted to np.float32 from int64. In the next version of anndata (0.9) conversion will not be automatic. Pass dtype explicitly to avoid this warning. Pass `AnnData(X, dtype=X.dtype, ...)` to get the future behavour.\n",
      "  input_train_mod1 = sc.AnnData(sps.csr_matrix(rna_count_mat[train_idx]), obs=meta_data.loc[cell_names[train_idx]])\n",
      "/tmp/ipykernel_10677/70642580.py:3: FutureWarning: X.dtype being converted to np.float32 from int64. In the next version of anndata (0.9) conversion will not be automatic. Pass dtype explicitly to avoid this warning. Pass `AnnData(X, dtype=X.dtype, ...)` to get the future behavour.\n",
      "  input_train_mod2 = sc.AnnData(sps.csr_matrix(atac_count_mat[train_idx]), obs=meta_data.loc[cell_names[train_idx]])\n"
     ]
    }
   ],
   "source": [
    "print('Reading `h5ad` files...')\n",
    "input_train_mod1 = sc.AnnData(sps.csr_matrix(rna_count_mat[train_idx]), obs=meta_data.loc[cell_names[train_idx]])\n",
    "input_train_mod2 = sc.AnnData(sps.csr_matrix(atac_count_mat[train_idx]), obs=meta_data.loc[cell_names[train_idx]])\n",
    "input_train_mod1.var_names = rna_names\n",
    "input_train_mod2.var_names = atac_names\n",
    "\n",
    "input_train_mod1.obs['batch'] = 'batch1'\n",
    "input_train_mod2.obs['batch'] = 'batch1'\n",
    "input_train_mod1.layers[\"counts\"] = input_train_mod1.X.astype(np.float32)\n",
    "input_train_mod2.layers[\"counts\"] = input_train_mod2.X.astype(np.float32)\n",
    "\n",
    "mod1_feature_type = 'GEX'\n",
    "mod2_feature_type = 'ATAC'"
   ]
  },
  {
   "cell_type": "code",
   "execution_count": 6,
   "metadata": {},
   "outputs": [
    {
     "data": {
      "text/plain": [
       "(AnnData object with n_obs × n_vars = 6940 × 36601\n",
       "     obs: 'orig.ident', 'nCount_RNA', 'nFeature_RNA', 'seurat_annotations', 'batch'\n",
       "     layers: 'counts',\n",
       " AnnData object with n_obs × n_vars = 6940 × 106086\n",
       "     obs: 'orig.ident', 'nCount_RNA', 'nFeature_RNA', 'seurat_annotations', 'batch'\n",
       "     layers: 'counts')"
      ]
     },
     "execution_count": 6,
     "metadata": {},
     "output_type": "execute_result"
    }
   ],
   "source": [
    "input_train_mod1, input_train_mod2"
   ]
  },
  {
   "cell_type": "code",
   "execution_count": 8,
   "metadata": {},
   "outputs": [],
   "source": [
    "if {mod1_feature_type, mod2_feature_type} == {\"GEX\", \"ATAC\"}:\n",
    "    omics = \"multiome\"\n",
    "elif {mod1_feature_type, mod2_feature_type} == {\"GEX\", \"ADT\"}:\n",
    "    omics = \"cite\"\n",
    "else:\n",
    "    raise RuntimeError(\"Unrecognized modality!\")"
   ]
  },
  {
   "cell_type": "code",
   "execution_count": 9,
   "metadata": {},
   "outputs": [],
   "source": [
    "if omics in [\"cite\", 'multiome']:  # perform better with this group\n",
    "    n_genes = 5000\n",
    "    latent_dim = 20\n",
    "    x2u_h_depth = 2\n",
    "    x2u_h_dim = 512\n",
    "    u2x_h_depth = 1\n",
    "    u2x_h_dim = 128\n",
    "    du_h_depth = 2\n",
    "    du_h_dim = 128\n",
    "    dropout = 0.2\n",
    "    lam_data = 1.0\n",
    "    lam_kl = 1.0\n",
    "    lam_align = 2.0\n",
    "    lam_cross = 2.0\n",
    "    lam_cos = 1.0\n",
    "    normalize_u = True\n",
    "    random_seed = 5\n",
    "# elif omics == \"multiome\":  # not very well\n",
    "#     n_genes = 10000\n",
    "#     latent_dim = 50\n",
    "#     x2u_h_depth = 2\n",
    "#     x2u_h_dim = 512\n",
    "#     u2x_h_depth = 1\n",
    "#     u2x_h_dim = 256\n",
    "#     du_h_depth = 1\n",
    "#     du_h_dim = 256\n",
    "#     dropout = 0.2\n",
    "#     lam_data = 1.0\n",
    "#     lam_kl = 0.3\n",
    "#     lam_align = 0.02\n",
    "#     lam_cross = 1.0\n",
    "#     lam_cos = 0.02\n",
    "#     normalize_u = True\n",
    "#     random_seed = 2"
   ]
  },
  {
   "cell_type": "code",
   "execution_count": 10,
   "metadata": {},
   "outputs": [],
   "source": [
    "os.makedirs(par['output_pretrain'], exist_ok=True)\n",
    "with open(os.path.join(par['output_pretrain'], \"hyperparams.yaml\"), \"w\") as f:\n",
    "    yaml.dump({\n",
    "        \"n_genes\": n_genes,\n",
    "        \"latent_dim\": latent_dim,\n",
    "        \"x2u_h_depth\": x2u_h_depth,\n",
    "        \"x2u_h_dim\": x2u_h_dim,\n",
    "        \"u2x_h_depth\": u2x_h_depth,\n",
    "        \"u2x_h_dim\": u2x_h_dim,\n",
    "        \"du_h_depth\": du_h_depth,\n",
    "        \"du_h_dim\": du_h_dim,\n",
    "        \"dropout\": dropout,\n",
    "        \"lam_data\": lam_data,\n",
    "        \"lam_kl\": lam_kl,\n",
    "        \"lam_align\": lam_align,\n",
    "        \"lam_cross\": lam_cross,\n",
    "        \"lam_cos\": lam_cos,\n",
    "        \"normalize_u\": normalize_u,\n",
    "        \"random_seed\": random_seed\n",
    "    }, f)"
   ]
  },
  {
   "cell_type": "code",
   "execution_count": 11,
   "metadata": {},
   "outputs": [],
   "source": [
    "input_train_mod1.obs[\"uid\"] = [f\"train-{i}\" for i in range(input_train_mod1.shape[0])]\n",
    "input_train_mod2.obs[\"uid\"] = [f\"train-{i}\" for i in range(input_train_mod2.shape[0])]"
   ]
  },
  {
   "cell_type": "code",
   "execution_count": 12,
   "metadata": {},
   "outputs": [],
   "source": [
    "if mod1_feature_type == \"GEX\":\n",
    "    gex = input_train_mod1\n",
    "    other = input_train_mod2\n",
    "else:\n",
    "    gex = input_train_mod2\n",
    "    other = input_train_mod1"
   ]
  },
  {
   "cell_type": "code",
   "execution_count": 13,
   "metadata": {},
   "outputs": [
    {
     "name": "stdout",
     "output_type": "stream",
     "text": [
      "Preprocessing GEX...\n",
      "Preprocessing ATAC...\n"
     ]
    }
   ],
   "source": [
    "print('Preprocessing GEX...')\n",
    "gex_prep = utils.GEXPreprocessing(n_comps=100, n_genes=n_genes, merge_adt=omics == \"cite\")\n",
    "gex_prep.fit_transform(gex)\n",
    "\n",
    "if omics == \"cite\":\n",
    "    print('Preprocessing ADT...')\n",
    "    other_prep = utils.ADTPreprocessing(n_comps=100)\n",
    "elif omics == \"multiome\":\n",
    "    print('Preprocessing ATAC...')\n",
    "    other_prep = utils.ATACPreprocessing(n_comps=100)\n",
    "    \n",
    "other_prep.fit_transform(other)"
   ]
  },
  {
   "cell_type": "code",
   "execution_count": 14,
   "metadata": {},
   "outputs": [],
   "source": [
    "with open(os.path.join(par['output_pretrain'], \"prep.pickle\"), \"wb\") as f:\n",
    "    pickle.dump({\n",
    "        \"gex_prep\": gex_prep,\n",
    "        \"other_prep\": other_prep\n",
    "    }, f)"
   ]
  },
  {
   "cell_type": "code",
   "execution_count": 15,
   "metadata": {},
   "outputs": [],
   "source": [
    "scglue.models.configure_dataset(\n",
    "    gex, \"NB\", use_highly_variable=True,\n",
    "    use_layer=\"counts\", use_rep=\"X_pca\",\n",
    "    use_batch=\"batch\", use_uid=\"uid\"\n",
    ")\n",
    "scglue.models.configure_dataset(\n",
    "    other, \"NB\", use_highly_variable=True,\n",
    "    use_layer=\"counts\", use_rep=\"X_lsi\",\n",
    "    use_batch=\"batch\", use_uid=\"uid\"\n",
    ")"
   ]
  },
  {
   "cell_type": "code",
   "execution_count": 16,
   "metadata": {},
   "outputs": [
    {
     "name": "stdout",
     "output_type": "stream",
     "text": [
      "Building model...\n",
      "[INFO] autodevice: Using GPU 1 as computation device.\n"
     ]
    }
   ],
   "source": [
    "print('Building model...')\n",
    "model = scglue.models.SCCLUEModel(\n",
    "    {\"gex\": gex, \"other\": other},\n",
    "    latent_dim=latent_dim,\n",
    "    x2u_h_depth=x2u_h_depth,\n",
    "    x2u_h_dim=x2u_h_dim,\n",
    "    u2x_h_depth=u2x_h_depth,\n",
    "    u2x_h_dim=u2x_h_dim,\n",
    "    du_h_depth=du_h_depth,\n",
    "    du_h_dim=du_h_dim,\n",
    "    dropout=dropout,\n",
    "    shared_batches=True,\n",
    "    random_seed=random_seed\n",
    ")\n",
    "\n",
    "training = True"
   ]
  },
  {
   "cell_type": "code",
   "execution_count": 17,
   "metadata": {},
   "outputs": [],
   "source": [
    "# loading pretrained weight\n",
    "# model = scglue.models.load_model(os.path.join(par['output_pretrain'], \"pretrain.dill\"))\n",
    "# training = False"
   ]
  },
  {
   "cell_type": "code",
   "execution_count": 18,
   "metadata": {},
   "outputs": [
    {
     "name": "stdout",
     "output_type": "stream",
     "text": [
      "Compiling model...\n"
     ]
    }
   ],
   "source": [
    "print('Compiling model...')\n",
    "model.compile(\n",
    "    lam_data=lam_data, lam_kl=lam_kl, lam_align=lam_align,\n",
    "    lam_cross=lam_cross, lam_cos=lam_cos, normalize_u=normalize_u,\n",
    "    domain_weight={\"gex\": 1, \"other\": 1}\n",
    ")"
   ]
  },
  {
   "cell_type": "code",
   "execution_count": 19,
   "metadata": {
    "collapsed": true,
    "jupyter": {
     "outputs_hidden": true
    }
   },
   "outputs": [
    {
     "name": "stdout",
     "output_type": "stream",
     "text": [
      "Training model...\n",
      "[INFO] SCCLUEModel: Setting `align_burnin` = 123\n",
      "[INFO] SCCLUEModel: Setting `max_epochs` = 738\n",
      "[INFO] SCCLUEModel: Setting `patience` = 93\n",
      "[INFO] SCCLUEModel: Setting `reduce_lr_patience` = 31\n",
      "[INFO] SCCLUETrainer: Using training directory: \"/tmp/GLUETMPrf7qc4nj\"\n",
      "[INFO] SCCLUETrainer: [Epoch 10] train={'dsc_loss': 0.693, 'gen_loss': 4.33, 'cross_loss': 1.887, 'cos_loss': 0.025, 'x_gex_nll': 0.426, 'x_gex_kl': 0.025, 'x_gex_elbo': 0.451, 'x_other_nll': 1.461, 'x_other_kl': 0.005, 'x_other_elbo': 1.467}, val={'dsc_loss': 0.694, 'gen_loss': 4.224, 'cross_loss': 1.854, 'cos_loss': 0.02, 'x_gex_nll': 0.426, 'x_gex_kl': 0.024, 'x_gex_elbo': 0.45, 'x_other_nll': 1.429, 'x_other_kl': 0.005, 'x_other_elbo': 1.434}, 2.3s elapsed\n",
      "[INFO] SCCLUETrainer: [Epoch 20] train={'dsc_loss': 0.693, 'gen_loss': 2.773, 'cross_loss': 1.373, 'cos_loss': 0.016, 'x_gex_nll': 0.333, 'x_gex_kl': 0.021, 'x_gex_elbo': 0.354, 'x_other_nll': 1.04, 'x_other_kl': 0.005, 'x_other_elbo': 1.045}, val={'dsc_loss': 0.694, 'gen_loss': 2.747, 'cross_loss': 1.366, 'cos_loss': 0.013, 'x_gex_nll': 0.338, 'x_gex_kl': 0.021, 'x_gex_elbo': 0.358, 'x_other_nll': 1.028, 'x_other_kl': 0.005, 'x_other_elbo': 1.033}, 2.2s elapsed\n",
      "[INFO] SCCLUETrainer: [Epoch 30] train={'dsc_loss': 0.693, 'gen_loss': 2.205, 'cross_loss': 1.186, 'cos_loss': 0.011, 'x_gex_nll': 0.291, 'x_gex_kl': 0.019, 'x_gex_elbo': 0.311, 'x_other_nll': 0.895, 'x_other_kl': 0.004, 'x_other_elbo': 0.899}, val={'dsc_loss': 0.694, 'gen_loss': 2.191, 'cross_loss': 1.181, 'cos_loss': 0.011, 'x_gex_nll': 0.298, 'x_gex_kl': 0.02, 'x_gex_elbo': 0.317, 'x_other_nll': 0.884, 'x_other_kl': 0.004, 'x_other_elbo': 0.888}, 2.2s elapsed\n",
      "[INFO] SCCLUETrainer: [Epoch 40] train={'dsc_loss': 0.693, 'gen_loss': 1.943, 'cross_loss': 1.099, 'cos_loss': 0.009, 'x_gex_nll': 0.275, 'x_gex_kl': 0.019, 'x_gex_elbo': 0.294, 'x_other_nll': 0.824, 'x_other_kl': 0.004, 'x_other_elbo': 0.828}, val={'dsc_loss': 0.693, 'gen_loss': 1.956, 'cross_loss': 1.103, 'cos_loss': 0.008, 'x_gex_nll': 0.283, 'x_gex_kl': 0.019, 'x_gex_elbo': 0.302, 'x_other_nll': 0.821, 'x_other_kl': 0.004, 'x_other_elbo': 0.825}, 2.2s elapsed\n",
      "[INFO] SCCLUETrainer: [Epoch 50] train={'dsc_loss': 0.693, 'gen_loss': 1.903, 'cross_loss': 1.086, 'cos_loss': 0.008, 'x_gex_nll': 0.272, 'x_gex_kl': 0.019, 'x_gex_elbo': 0.291, 'x_other_nll': 0.814, 'x_other_kl': 0.004, 'x_other_elbo': 0.819}, val={'dsc_loss': 0.693, 'gen_loss': 1.911, 'cross_loss': 1.089, 'cos_loss': 0.007, 'x_gex_nll': 0.279, 'x_gex_kl': 0.02, 'x_gex_elbo': 0.299, 'x_other_nll': 0.81, 'x_other_kl': 0.004, 'x_other_elbo': 0.814}, 2.2s elapsed\n",
      "[INFO] SCCLUETrainer: [Epoch 60] train={'dsc_loss': 0.693, 'gen_loss': 1.897, 'cross_loss': 1.084, 'cos_loss': 0.007, 'x_gex_nll': 0.271, 'x_gex_kl': 0.02, 'x_gex_elbo': 0.29, 'x_other_nll': 0.814, 'x_other_kl': 0.004, 'x_other_elbo': 0.818}, val={'dsc_loss': 0.693, 'gen_loss': 1.903, 'cross_loss': 1.086, 'cos_loss': 0.007, 'x_gex_nll': 0.277, 'x_gex_kl': 0.02, 'x_gex_elbo': 0.297, 'x_other_nll': 0.809, 'x_other_kl': 0.004, 'x_other_elbo': 0.814}, 2.3s elapsed\n",
      "[INFO] SCCLUETrainer: [Epoch 70] train={'dsc_loss': 0.693, 'gen_loss': 1.895, 'cross_loss': 1.083, 'cos_loss': 0.007, 'x_gex_nll': 0.27, 'x_gex_kl': 0.02, 'x_gex_elbo': 0.29, 'x_other_nll': 0.813, 'x_other_kl': 0.004, 'x_other_elbo': 0.818}, val={'dsc_loss': 0.693, 'gen_loss': 1.927, 'cross_loss': 1.095, 'cos_loss': 0.006, 'x_gex_nll': 0.28, 'x_gex_kl': 0.02, 'x_gex_elbo': 0.299, 'x_other_nll': 0.815, 'x_other_kl': 0.004, 'x_other_elbo': 0.819}, 2.2s elapsed\n",
      "[INFO] SCCLUETrainer: [Epoch 80] train={'dsc_loss': 0.693, 'gen_loss': 1.893, 'cross_loss': 1.083, 'cos_loss': 0.007, 'x_gex_nll': 0.27, 'x_gex_kl': 0.02, 'x_gex_elbo': 0.29, 'x_other_nll': 0.813, 'x_other_kl': 0.004, 'x_other_elbo': 0.818}, val={'dsc_loss': 0.693, 'gen_loss': 1.918, 'cross_loss': 1.091, 'cos_loss': 0.007, 'x_gex_nll': 0.278, 'x_gex_kl': 0.02, 'x_gex_elbo': 0.297, 'x_other_nll': 0.813, 'x_other_kl': 0.005, 'x_other_elbo': 0.818}, 2.2s elapsed\n",
      "[INFO] SCCLUETrainer: [Epoch 90] train={'dsc_loss': 0.693, 'gen_loss': 1.892, 'cross_loss': 1.082, 'cos_loss': 0.006, 'x_gex_nll': 0.269, 'x_gex_kl': 0.02, 'x_gex_elbo': 0.289, 'x_other_nll': 0.813, 'x_other_kl': 0.004, 'x_other_elbo': 0.818}, val={'dsc_loss': 0.694, 'gen_loss': 1.916, 'cross_loss': 1.091, 'cos_loss': 0.006, 'x_gex_nll': 0.278, 'x_gex_kl': 0.02, 'x_gex_elbo': 0.299, 'x_other_nll': 0.812, 'x_other_kl': 0.004, 'x_other_elbo': 0.817}, 2.2s elapsed\n",
      "[INFO] SCCLUETrainer: [Epoch 100] train={'dsc_loss': 0.693, 'gen_loss': 1.891, 'cross_loss': 1.082, 'cos_loss': 0.006, 'x_gex_nll': 0.269, 'x_gex_kl': 0.02, 'x_gex_elbo': 0.289, 'x_other_nll': 0.813, 'x_other_kl': 0.004, 'x_other_elbo': 0.817}, val={'dsc_loss': 0.693, 'gen_loss': 1.918, 'cross_loss': 1.091, 'cos_loss': 0.007, 'x_gex_nll': 0.276, 'x_gex_kl': 0.02, 'x_gex_elbo': 0.296, 'x_other_nll': 0.815, 'x_other_kl': 0.004, 'x_other_elbo': 0.819}, 2.2s elapsed\n",
      "[INFO] SCCLUETrainer: [Epoch 110] train={'dsc_loss': 0.693, 'gen_loss': 1.891, 'cross_loss': 1.082, 'cos_loss': 0.006, 'x_gex_nll': 0.269, 'x_gex_kl': 0.02, 'x_gex_elbo': 0.289, 'x_other_nll': 0.813, 'x_other_kl': 0.004, 'x_other_elbo': 0.818}, val={'dsc_loss': 0.693, 'gen_loss': 1.909, 'cross_loss': 1.089, 'cos_loss': 0.007, 'x_gex_nll': 0.275, 'x_gex_kl': 0.02, 'x_gex_elbo': 0.295, 'x_other_nll': 0.813, 'x_other_kl': 0.004, 'x_other_elbo': 0.817}, 2.2s elapsed\n",
      "[INFO] SCCLUETrainer: [Epoch 120] train={'dsc_loss': 0.693, 'gen_loss': 1.89, 'cross_loss': 1.082, 'cos_loss': 0.006, 'x_gex_nll': 0.269, 'x_gex_kl': 0.02, 'x_gex_elbo': 0.289, 'x_other_nll': 0.813, 'x_other_kl': 0.004, 'x_other_elbo': 0.817}, val={'dsc_loss': 0.693, 'gen_loss': 1.912, 'cross_loss': 1.089, 'cos_loss': 0.006, 'x_gex_nll': 0.276, 'x_gex_kl': 0.02, 'x_gex_elbo': 0.296, 'x_other_nll': 0.812, 'x_other_kl': 0.004, 'x_other_elbo': 0.817}, 2.2s elapsed\n",
      "[INFO] SCCLUETrainer: [Epoch 130] train={'dsc_loss': 0.693, 'gen_loss': 1.889, 'cross_loss': 1.082, 'cos_loss': 0.006, 'x_gex_nll': 0.269, 'x_gex_kl': 0.02, 'x_gex_elbo': 0.289, 'x_other_nll': 0.813, 'x_other_kl': 0.004, 'x_other_elbo': 0.817}, val={'dsc_loss': 0.693, 'gen_loss': 1.911, 'cross_loss': 1.089, 'cos_loss': 0.006, 'x_gex_nll': 0.276, 'x_gex_kl': 0.02, 'x_gex_elbo': 0.296, 'x_other_nll': 0.812, 'x_other_kl': 0.005, 'x_other_elbo': 0.817}, 2.2s elapsed\n",
      "[INFO] SCCLUETrainer: [Epoch 140] train={'dsc_loss': 0.693, 'gen_loss': 1.888, 'cross_loss': 1.081, 'cos_loss': 0.006, 'x_gex_nll': 0.269, 'x_gex_kl': 0.02, 'x_gex_elbo': 0.289, 'x_other_nll': 0.813, 'x_other_kl': 0.004, 'x_other_elbo': 0.817}, val={'dsc_loss': 0.693, 'gen_loss': 1.913, 'cross_loss': 1.09, 'cos_loss': 0.007, 'x_gex_nll': 0.277, 'x_gex_kl': 0.02, 'x_gex_elbo': 0.297, 'x_other_nll': 0.813, 'x_other_kl': 0.004, 'x_other_elbo': 0.817}, 2.2s elapsed\n",
      "[INFO] SCCLUETrainer: [Epoch 150] train={'dsc_loss': 0.693, 'gen_loss': 1.889, 'cross_loss': 1.081, 'cos_loss': 0.006, 'x_gex_nll': 0.269, 'x_gex_kl': 0.02, 'x_gex_elbo': 0.289, 'x_other_nll': 0.813, 'x_other_kl': 0.004, 'x_other_elbo': 0.817}, val={'dsc_loss': 0.693, 'gen_loss': 1.899, 'cross_loss': 1.085, 'cos_loss': 0.006, 'x_gex_nll': 0.275, 'x_gex_kl': 0.02, 'x_gex_elbo': 0.294, 'x_other_nll': 0.81, 'x_other_kl': 0.004, 'x_other_elbo': 0.814}, 2.2s elapsed\n",
      "[INFO] SCCLUETrainer: [Epoch 160] train={'dsc_loss': 0.693, 'gen_loss': 1.887, 'cross_loss': 1.081, 'cos_loss': 0.006, 'x_gex_nll': 0.269, 'x_gex_kl': 0.02, 'x_gex_elbo': 0.289, 'x_other_nll': 0.813, 'x_other_kl': 0.005, 'x_other_elbo': 0.817}, val={'dsc_loss': 0.693, 'gen_loss': 1.898, 'cross_loss': 1.085, 'cos_loss': 0.006, 'x_gex_nll': 0.277, 'x_gex_kl': 0.02, 'x_gex_elbo': 0.296, 'x_other_nll': 0.808, 'x_other_kl': 0.004, 'x_other_elbo': 0.812}, 2.2s elapsed\n",
      "Epoch 00161: reducing learning rate of group 0 to 2.0000e-04.\n",
      "Epoch 00161: reducing learning rate of group 0 to 2.0000e-04.\n",
      "[INFO] SCCLUETrainer: [Epoch 170] train={'dsc_loss': 0.693, 'gen_loss': 1.882, 'cross_loss': 1.08, 'cos_loss': 0.005, 'x_gex_nll': 0.268, 'x_gex_kl': 0.02, 'x_gex_elbo': 0.288, 'x_other_nll': 0.812, 'x_other_kl': 0.005, 'x_other_elbo': 0.816}, val={'dsc_loss': 0.693, 'gen_loss': 1.918, 'cross_loss': 1.092, 'cos_loss': 0.006, 'x_gex_nll': 0.277, 'x_gex_kl': 0.02, 'x_gex_elbo': 0.298, 'x_other_nll': 0.813, 'x_other_kl': 0.004, 'x_other_elbo': 0.818}, 2.2s elapsed\n",
      "[INFO] SCCLUETrainer: [Epoch 180] train={'dsc_loss': 0.693, 'gen_loss': 1.883, 'cross_loss': 1.08, 'cos_loss': 0.005, 'x_gex_nll': 0.268, 'x_gex_kl': 0.02, 'x_gex_elbo': 0.288, 'x_other_nll': 0.812, 'x_other_kl': 0.005, 'x_other_elbo': 0.817}, val={'dsc_loss': 0.693, 'gen_loss': 1.914, 'cross_loss': 1.09, 'cos_loss': 0.006, 'x_gex_nll': 0.277, 'x_gex_kl': 0.02, 'x_gex_elbo': 0.297, 'x_other_nll': 0.813, 'x_other_kl': 0.005, 'x_other_elbo': 0.817}, 2.2s elapsed\n",
      "[INFO] SCCLUETrainer: [Epoch 190] train={'dsc_loss': 0.693, 'gen_loss': 1.882, 'cross_loss': 1.08, 'cos_loss': 0.005, 'x_gex_nll': 0.268, 'x_gex_kl': 0.02, 'x_gex_elbo': 0.288, 'x_other_nll': 0.812, 'x_other_kl': 0.005, 'x_other_elbo': 0.816}, val={'dsc_loss': 0.693, 'gen_loss': 1.907, 'cross_loss': 1.088, 'cos_loss': 0.005, 'x_gex_nll': 0.276, 'x_gex_kl': 0.02, 'x_gex_elbo': 0.296, 'x_other_nll': 0.812, 'x_other_kl': 0.004, 'x_other_elbo': 0.816}, 2.3s elapsed\n",
      "Epoch 00193: reducing learning rate of group 0 to 2.0000e-05.\n",
      "Epoch 00193: reducing learning rate of group 0 to 2.0000e-05.\n",
      "[INFO] SCCLUETrainer: [Epoch 200] train={'dsc_loss': 0.693, 'gen_loss': 1.882, 'cross_loss': 1.079, 'cos_loss': 0.005, 'x_gex_nll': 0.268, 'x_gex_kl': 0.02, 'x_gex_elbo': 0.288, 'x_other_nll': 0.812, 'x_other_kl': 0.005, 'x_other_elbo': 0.816}, val={'dsc_loss': 0.693, 'gen_loss': 1.924, 'cross_loss': 1.094, 'cos_loss': 0.006, 'x_gex_nll': 0.278, 'x_gex_kl': 0.02, 'x_gex_elbo': 0.298, 'x_other_nll': 0.815, 'x_other_kl': 0.005, 'x_other_elbo': 0.819}, 2.2s elapsed\n",
      "[INFO] SCCLUETrainer: [Epoch 210] train={'dsc_loss': 0.693, 'gen_loss': 1.882, 'cross_loss': 1.08, 'cos_loss': 0.005, 'x_gex_nll': 0.268, 'x_gex_kl': 0.02, 'x_gex_elbo': 0.288, 'x_other_nll': 0.812, 'x_other_kl': 0.005, 'x_other_elbo': 0.817}, val={'dsc_loss': 0.693, 'gen_loss': 1.905, 'cross_loss': 1.087, 'cos_loss': 0.006, 'x_gex_nll': 0.275, 'x_gex_kl': 0.02, 'x_gex_elbo': 0.295, 'x_other_nll': 0.811, 'x_other_kl': 0.005, 'x_other_elbo': 0.816}, 2.2s elapsed\n",
      "[INFO] SCCLUETrainer: [Epoch 220] train={'dsc_loss': 0.693, 'gen_loss': 1.882, 'cross_loss': 1.08, 'cos_loss': 0.005, 'x_gex_nll': 0.268, 'x_gex_kl': 0.02, 'x_gex_elbo': 0.288, 'x_other_nll': 0.812, 'x_other_kl': 0.005, 'x_other_elbo': 0.816}, val={'dsc_loss': 0.693, 'gen_loss': 1.914, 'cross_loss': 1.09, 'cos_loss': 0.005, 'x_gex_nll': 0.276, 'x_gex_kl': 0.02, 'x_gex_elbo': 0.297, 'x_other_nll': 0.813, 'x_other_kl': 0.005, 'x_other_elbo': 0.818}, 2.2s elapsed\n"
     ]
    },
    {
     "name": "stderr",
     "output_type": "stream",
     "text": [
      "2023-08-27 18:35:07,586 ignite.handlers.early_stopping.EarlyStopping INFO: EarlyStopping: Stop training\n"
     ]
    },
    {
     "name": "stdout",
     "output_type": "stream",
     "text": [
      "[INFO] EarlyStopping: Restoring checkpoint \"213\"...\n",
      "[INFO] EarlyStopping: Restoring checkpoint \"213\"...\n"
     ]
    }
   ],
   "source": [
    "if training:\n",
    "    print('Training model...')\n",
    "    model.fit(\n",
    "        {\"gex\": gex, \"other\": other}\n",
    "    )\n",
    "    model.save(os.path.join(par['output_pretrain'], \"pretrain.dill\"))"
   ]
  },
  {
   "cell_type": "code",
   "execution_count": null,
   "metadata": {},
   "outputs": [],
   "source": []
  }
 ],
 "metadata": {
  "kernelspec": {
   "display_name": "torch112",
   "language": "python",
   "name": "torch112"
  },
  "language_info": {
   "codemirror_mode": {
    "name": "ipython",
    "version": 3
   },
   "file_extension": ".py",
   "mimetype": "text/x-python",
   "name": "python",
   "nbconvert_exporter": "python",
   "pygments_lexer": "ipython3",
   "version": "3.8.13"
  }
 },
 "nbformat": 4,
 "nbformat_minor": 4
}
