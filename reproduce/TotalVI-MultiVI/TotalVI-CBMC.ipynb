{
 "cells": [
  {
   "cell_type": "code",
   "execution_count": 1,
   "metadata": {},
   "outputs": [
    {
     "name": "stderr",
     "output_type": "stream",
     "text": [
      "Global seed set to 0\n"
     ]
    }
   ],
   "source": [
    "import os\n",
    "import sys\n",
    "os.environ[\"OMP_NUM_THREADS\"] = \"11\"\n",
    "os.environ[\"OPENBLAS_NUM_THREADS\"] = \"8\" # export OPENBLAS_NUM_THREADS=4 \n",
    "os.environ[\"MKL_NUM_THREADS\"] = \"11\" # export MKL_NUM_THREADS=6\n",
    "os.environ[\"VECLIB_MAXIMUM_THREADS\"] = \"8\" # export VECLIB_MAXIMUM_THREADS=4\n",
    "os.environ[\"NUMEXPR_NUM_THREADS\"] = \"11\" # export NUMEXPR_NUM_THREADS=6\n",
    "os.environ[\"NUMBA_CACHE_DIR\"]='/tmp/numba_cache'\n",
    "import numpy as np\n",
    "import pandas as pd\n",
    "import scipy as sp\n",
    "import scipy.sparse as sps\n",
    "import h5py\n",
    "\n",
    "import scvi\n",
    "import scanpy as sc\n",
    "import scipy.io as sio\n",
    "\n",
    "import matplotlib.pyplot as plt\n",
    "from os.path import join"
   ]
  },
  {
   "cell_type": "code",
   "execution_count": 2,
   "metadata": {},
   "outputs": [],
   "source": [
    "import scipy\n",
    "import copy\n",
    "import gc\n",
    "def pearson_mat(X0, Y0):\n",
    "    X, Y = copy.deepcopy(X0), copy.deepcopy(Y0)\n",
    "    X = (X - X.mean(axis=0))\n",
    "    X /= (scipy.linalg.norm(X, axis=0, ord=2) + 1e-12)\n",
    "    Y = (Y - Y.mean(axis=0))\n",
    "    Y /= (scipy.linalg.norm(Y, axis=0, ord=2) + 1e-12)\n",
    "    res = (X * Y).sum(axis=0)\n",
    "    del X, Y\n",
    "    gc.collect()\n",
    "    return res\n",
    "\n",
    "def pearson_mat_axis1(X0, Y0):\n",
    "    X, Y = copy.deepcopy(X0), copy.deepcopy(Y0)\n",
    "    X = (X - X.mean(axis=1, keepdims=True))\n",
    "    X /= (scipy.linalg.norm(X, axis=1, ord=2, keepdims=True) + 1e-12)\n",
    "    Y = (Y - Y.mean(axis=1, keepdims=True))\n",
    "    Y /= (scipy.linalg.norm(Y, axis=1, ord=2, keepdims=True) + 1e-12)\n",
    "    res = (X * Y).sum(axis=1)\n",
    "    del X, Y\n",
    "    gc.collect()\n",
    "    return res\n",
    "\n",
    "def eval_PearSpear_AlongGene(X, Y):\n",
    "    pears = pearson_mat(X, Y)\n",
    "    spears = []\n",
    "    for gi in range(X.shape[1]):\n",
    "        spears.append(scipy.stats.spearmanr(X[:, gi], Y[:, gi])[0])\n",
    "    return pears, spears\n",
    "\n",
    "def eval_PearSpear_AlongCell(X, Y):\n",
    "    pear_alongcell = pearson_mat_axis1(X, Y)\n",
    "    spear_alongcell = []\n",
    "    for ci in range(X.shape[0]):\n",
    "        spear_alongcell.append(scipy.stats.spearmanr(X[ci, ], Y[ci, ])[0])\n",
    "    return pear_alongcell, spear_alongcell\n",
    "        \n",
    "def eval_imputation_flatten(x, y):\n",
    "    pearson_r, pearson_p = scipy.stats.pearsonr(x, y)\n",
    "    print(f\"Found pearson's correlation/p of {pearson_r:.4f}/{pearson_p:.4g}\")\n",
    "    spearman_corr, spearman_p = scipy.stats.spearmanr(x, y)\n",
    "    print(f\"Found spearman's collelation/p of {spearman_corr:.4f}/{spearman_p:.4g}\")\n",
    "    rmse = np.sqrt(np.mean((x - y)**2))\n",
    "    print(f\"Found rmse {rmse:.4f}\")\n",
    "    return pearson_r, spearman_corr, rmse"
   ]
  },
  {
   "cell_type": "code",
   "execution_count": 3,
   "metadata": {},
   "outputs": [],
   "source": [
    "data_dir = \"/home/yanxh/data/Seurat_demo_data/bm_cite\"\n",
    "\n",
    "X_count = sps.csr_matrix(sio.mmread(join(data_dir, 'rna_mat_count.mtx')).T)\n",
    "X = sps.csr_matrix(sio.mmread(join(data_dir, 'rna_mat_norm.mtx')).T)\n",
    "Y_count = sps.csr_matrix(sio.mmread(join(data_dir, 'adt_mat_count.mtx')).T)\n",
    "Y = sps.csr_matrix(sio.mmread(join(data_dir, 'adt_mat_norm.mtx')).T)\n",
    "\n",
    "rna_names = pd.read_csv(join(data_dir, 'gene_names.csv'))['x'].to_numpy()\n",
    "adt_names = pd.read_csv(join(data_dir, 'adt_names.csv'))['x'].to_numpy()\n",
    "\n",
    "cell_names = pd.read_csv(join(data_dir, 'cell_names.csv'))['x'].to_numpy()\n",
    "meta_data = pd.read_csv(join(data_dir, 'metadata.csv'), index_col=0)\n",
    "meta_data['batch'] = meta_data['donor'].to_numpy()\n",
    "\n",
    "# select hvg\n",
    "ad_rna = sc.AnnData(X, obs=meta_data.loc[cell_names])\n",
    "sc.pp.highly_variable_genes(ad_rna, n_top_genes=5000)\n",
    "hvg_idx = np.where(ad_rna.var.highly_variable)[0]\n",
    "\n",
    "train_idx = np.where((meta_data.batch=='batch1').to_numpy())[0]\n",
    "test_idx  = np.where((meta_data.batch=='batch2').to_numpy())[0]\n",
    "\n",
    "X = X[:, hvg_idx].copy()\n",
    "X_count = X_count[:, hvg_idx].copy()"
   ]
  },
  {
   "cell_type": "code",
   "execution_count": 4,
   "metadata": {},
   "outputs": [],
   "source": [
    "adata = sc.AnnData(X[train_idx].A)\n",
    "adata.obsm['ADT'] = Y_count[train_idx].A\n",
    "adata.layers[\"counts\"] = X_count[train_idx].A\n",
    "# adata.obs['batch'] = np.r_[gex.obs.batch.to_numpy(), gex_test.obs.batch.to_numpy()]\n",
    "adata.raw = adata"
   ]
  },
  {
   "cell_type": "code",
   "execution_count": 5,
   "metadata": {},
   "outputs": [
    {
     "name": "stderr",
     "output_type": "stream",
     "text": [
      "No GPU/TPU found, falling back to CPU. (Set TF_CPP_MIN_LOG_LEVEL=0 and rerun for more info.)\n"
     ]
    },
    {
     "name": "stdout",
     "output_type": "stream",
     "text": [
      "\u001b[34mINFO    \u001b[0m Generating sequential column names                                                                        \n",
      "\u001b[34mINFO    \u001b[0m Computing empirical prior initialization for protein background.                                          \n"
     ]
    }
   ],
   "source": [
    "scvi.model.TOTALVI.setup_anndata(\n",
    "    adata,\n",
    "#     batch_key=\"batch\",          # set batch hurts performance badly\n",
    "    layer=\"counts\",\n",
    "    protein_expression_obsm_key=\"ADT\"\n",
    ")\n",
    "\n",
    "vae = scvi.model.TOTALVI(adata, \n",
    "                         n_latent=32,\n",
    "                         latent_distribution=\"normal\")"
   ]
  },
  {
   "cell_type": "code",
   "execution_count": 6,
   "metadata": {},
   "outputs": [
    {
     "name": "stdout",
     "output_type": "stream",
     "text": [
      "\u001b[34mINFO    \u001b[0m Computing empirical prior initialization for protein background.                                          \n"
     ]
    }
   ],
   "source": [
    "if False:\n",
    "    vae.train(\n",
    "       train_size=0.9,\n",
    "       early_stopping=15,\n",
    "       reduce_lr_on_plateau=False\n",
    "    )\n",
    "    vae.save('./TotalVI_checkpoint/bm-cite', overwrite=True)\n",
    "\n",
    "    vae = scvi.model.TOTALVI.load('./TotalVI_checkpoint/bm-cite', adata)\n",
    "else:\n",
    "    vae = scvi.model.TOTALVI.load('./TotalVI_checkpoint/bm-cite', adata)"
   ]
  },
  {
   "cell_type": "markdown",
   "metadata": {},
   "source": [
    "## ADT->RNA"
   ]
  },
  {
   "cell_type": "code",
   "execution_count": 7,
   "metadata": {},
   "outputs": [
    {
     "name": "stdout",
     "output_type": "stream",
     "text": [
      "\u001b[34mINFO    \u001b[0m Input AnnData not setup with scvi-tools. attempting to transfer AnnData setup                             \n"
     ]
    }
   ],
   "source": [
    "adata_test = sc.AnnData(np.zeros_like(X[test_idx].A))\n",
    "adata_test.obsm['ADT'] = Y_count[test_idx].A\n",
    "adata_test.layers['counts'] = np.zeros_like(X_count[test_idx].A)\n",
    "\n",
    "X_hat, _ = vae.get_normalized_expression(\n",
    "    adata=adata_test, \n",
    "    n_samples=25,\n",
    "    return_mean=True,\n",
    ")\n",
    "\n",
    "X_hat = np.log1p(X_hat * 1e4)"
   ]
  },
  {
   "cell_type": "code",
   "execution_count": 9,
   "metadata": {},
   "outputs": [
    {
     "name": "stdout",
     "output_type": "stream",
     "text": [
      "Found pearson's correlation/p of 0.5659/0\n",
      "Found spearman's collelation/p of 0.2414/0\n",
      "Found rmse 0.6039\n"
     ]
    },
    {
     "name": "stderr",
     "output_type": "stream",
     "text": [
      "/home/yanxh/anaconda3/envs/torch112/lib/python3.8/site-packages/scipy/stats/_stats_py.py:4881: ConstantInputWarning: An input array is constant; the correlation coefficient is not defined.\n",
      "  warnings.warn(stats.ConstantInputWarning(warn_msg))\n"
     ]
    },
    {
     "data": {
      "text/plain": [
       "(0.07271284787315001, nan, 0.5656557576370216, 0.23602405413260327)"
      ]
     },
     "execution_count": 9,
     "metadata": {},
     "output_type": "execute_result"
    }
   ],
   "source": [
    "x, y = X[test_idx].A, X_hat.values\n",
    "pr, sr, rmse = eval_imputation_flatten(x.flatten(), y.flatten())\n",
    "\n",
    "pear_along_gene, spear_along_gene = eval_PearSpear_AlongGene(x, y)\n",
    "gene_pear_along_cell, gene_spear_along_cell = eval_PearSpear_AlongCell(x, y)\n",
    "\n",
    "np.mean(pear_along_gene), np.mean(spear_along_gene), np.mean(gene_pear_along_cell), np.mean(gene_spear_along_cell)"
   ]
  },
  {
   "cell_type": "markdown",
   "metadata": {},
   "source": [
    "# RNA->ADT"
   ]
  },
  {
   "cell_type": "code",
   "execution_count": 8,
   "metadata": {},
   "outputs": [],
   "source": [
    "adata_test = sc.AnnData(X[test_idx].A)\n",
    "adata_test.obsm['ADT'] = np.zeros_like(Y_count[test_idx].A)\n",
    "adata_test.layers['counts'] = X_count[test_idx].A"
   ]
  },
  {
   "cell_type": "code",
   "execution_count": 9,
   "metadata": {},
   "outputs": [
    {
     "name": "stdout",
     "output_type": "stream",
     "text": [
      "\u001b[34mINFO    \u001b[0m Input AnnData not setup with scvi-tools. attempting to transfer AnnData setup                             \n",
      "\u001b[34mINFO    \u001b[0m Found batches with missing protein expression                                                             \n"
     ]
    }
   ],
   "source": [
    "_, Y_hat = vae.get_normalized_expression(\n",
    "    adata=adata_test,\n",
    "    n_samples=25,\n",
    "    include_protein_background=True,\n",
    "    return_mean=True,\n",
    ")\n",
    "\n",
    "Y_hat = np.log1p(Y_hat.values * 1e4)\n",
    "Y_test = np.log1p(Y_count[test_idx].A/np.sum(Y_count[test_idx].A, axis=-1, keepdims=True)*1e4)"
   ]
  },
  {
   "cell_type": "code",
   "execution_count": 12,
   "metadata": {},
   "outputs": [
    {
     "name": "stdout",
     "output_type": "stream",
     "text": [
      "Found pearson's correlation/p of 0.7289/0\n",
      "Found spearman's collelation/p of 0.6910/0\n",
      "Found rmse 7.3716\n"
     ]
    },
    {
     "data": {
      "text/plain": [
       "(0.39558970779140684,\n",
       " 0.32406326067516533,\n",
       " 0.7564383713584866,\n",
       " 0.7230228926980063)"
      ]
     },
     "execution_count": 12,
     "metadata": {},
     "output_type": "execute_result"
    }
   ],
   "source": [
    "pr, sr, rmse = eval_imputation_flatten(Y_test.flatten(), Y_hat.flatten())\n",
    "\n",
    "pear_along_adt, spear_along_adt = eval_PearSpear_AlongGene(Y_test, Y_hat)\n",
    "adt_pear_along_cell, adt_spear_along_cell = eval_PearSpear_AlongCell(Y_test, Y_hat)\n",
    "\n",
    "np.mean(pear_along_adt), np.mean(spear_along_adt), np.mean(adt_pear_along_cell), np.mean(adt_spear_along_cell)"
   ]
  },
  {
   "cell_type": "code",
   "execution_count": 19,
   "metadata": {},
   "outputs": [],
   "source": [
    "save_dir = '/home/yanxh/gitrepo/multi-omics-matching/Visualization/outputs/imputation'\n",
    "\n",
    "adt_metcs = np.vstack([pear_along_adt, spear_along_adt]).T\n",
    "_df1 = pd.DataFrame(adt_metcs, index=adt_names, columns=['pear', 'spear'])\n",
    "_df1.to_csv(join(save_dir, 'TotalVI_bm-cite_along_adt.csv'))\n",
    "\n",
    "gene_metcs = np.vstack([pear_along_gene, spear_along_gene]).T\n",
    "_df2 = pd.DataFrame(gene_metcs, index=rna_names[hvg_idx], columns=['pear', 'spear'])\n",
    "_df2.to_csv(join(save_dir, 'TotalVI_bm-cite_along_gene.csv'))"
   ]
  },
  {
   "cell_type": "code",
   "execution_count": null,
   "metadata": {},
   "outputs": [],
   "source": []
  }
 ],
 "metadata": {
  "kernelspec": {
   "display_name": "torch112",
   "language": "python",
   "name": "torch112"
  },
  "language_info": {
   "codemirror_mode": {
    "name": "ipython",
    "version": 3
   },
   "file_extension": ".py",
   "mimetype": "text/x-python",
   "name": "python",
   "nbconvert_exporter": "python",
   "pygments_lexer": "ipython3",
   "version": "3.8.13"
  }
 },
 "nbformat": 4,
 "nbformat_minor": 4
}
