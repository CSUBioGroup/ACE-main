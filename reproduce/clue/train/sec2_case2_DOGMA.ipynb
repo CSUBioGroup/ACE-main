{
 "cells": [
  {
   "cell_type": "code",
   "execution_count": 1,
   "metadata": {},
   "outputs": [
    {
     "name": "stderr",
     "output_type": "stream",
     "text": [
      "/home/yanxh/anaconda3/envs/torch112/lib/python3.8/site-packages/tqdm/auto.py:22: TqdmWarning: IProgress not found. Please update jupyter and ipywidgets. See https://ipywidgets.readthedocs.io/en/stable/user_install.html\n",
      "  from .autonotebook import tqdm as notebook_tqdm\n"
     ]
    }
   ],
   "source": [
    "%load_ext autoreload\n",
    "%autoreload 2\n",
    "\n",
    "import os\n",
    "import pickle\n",
    "\n",
    "import anndata as ad\n",
    "import numpy as np\n",
    "import pandas as pd\n",
    "import yaml\n",
    "import sys\n",
    "import scanpy as sc\n",
    "import scipy.sparse as sps\n",
    "import scipy.io as sio\n",
    "\n",
    "import scglue\n",
    "import seaborn as sns\n",
    "\n",
    "from os.path import join\n",
    "\n",
    "import matplotlib.pyplot as plt"
   ]
  },
  {
   "cell_type": "code",
   "execution_count": 2,
   "metadata": {},
   "outputs": [],
   "source": [
    "# Path to the data directory\n",
    "root_dir = '/home/yanxh/gitrepo/multi-omics-matching/neurips2021_multimodal_topmethods-main'\n",
    "data_dir = \"/home/sda1/yanxh/data/DOGMA\"\n",
    "\n",
    "par = {}\n",
    "par['output_pretrain'] = os.path.join(\n",
    "    root_dir, \n",
    "    'output/pretrain/clue/dogma_StimSplit.clue_train.output_pretrain/')"
   ]
  },
  {
   "cell_type": "code",
   "execution_count": 5,
   "metadata": {},
   "outputs": [
    {
     "name": "stdout",
     "output_type": "stream",
     "text": [
      "Reading `mtx` files...\n"
     ]
    },
    {
     "data": {
      "text/plain": [
       "((13763, 2000), (13763, 210), (13763, 50285), 7624, 6139)"
      ]
     },
     "execution_count": 5,
     "metadata": {},
     "output_type": "execute_result"
    }
   ],
   "source": [
    "print('Reading `mtx` files...')\n",
    "rna_count_mat = sps.csr_matrix(sio.mmread(join(data_dir, 'RNA/rna_mat_count.mtx')).T)\n",
    "adt_count_mat = sps.csr_matrix(sio.mmread(join(data_dir, 'ADT/adt_mat_count.mtx')).T)\n",
    "atac_count_mat = sps.csr_matrix(sio.mmread(join(data_dir, 'ATAC/atac_mat_count.mtx')).T)\n",
    "\n",
    "rna_names = pd.read_csv(join(data_dir, 'RNA/hvg_names.csv'))['VariableFeatures(data_ref)'].to_numpy()\n",
    "adt_names = pd.read_csv(join(data_dir, 'ADT/adt_names.csv'))['VariableFeatures(data_ref)'].to_numpy()\n",
    "atac_names = pd.read_csv(join(data_dir, 'ATAC/hvp_names.csv'))['VariableFeatures(data_ref)'].to_numpy()\n",
    "\n",
    "cell_names = pd.read_csv(join(data_dir, 'cell_names.csv'))['x'].to_numpy()\n",
    "meta_data = pd.read_csv(join(data_dir, 'metadata.csv'), index_col=0)\n",
    "meta_data = meta_data[['stim', 'predicted.celltype.l1', 'predicted.celltype.l2']].copy()\n",
    "meta_data['batch'] = meta_data.stim.to_numpy()\n",
    "\n",
    "train_idx = np.where((meta_data.batch=='Control').to_numpy())[0]\n",
    "test_idx  = np.where((meta_data.batch=='Stim').to_numpy())[0]\n",
    "\n",
    "rna_count_mat.shape, adt_count_mat.shape, atac_count_mat.shape, train_idx.size, test_idx.size"
   ]
  },
  {
   "cell_type": "code",
   "execution_count": 6,
   "metadata": {},
   "outputs": [],
   "source": [
    "sys.path.append(os.path.join(root_dir, 'src/match_modality/methods/clue/resources'))\n",
    "import utils"
   ]
  },
  {
   "cell_type": "code",
   "execution_count": 7,
   "metadata": {},
   "outputs": [
    {
     "name": "stdout",
     "output_type": "stream",
     "text": [
      "Reading `h5ad` files...\n"
     ]
    },
    {
     "name": "stderr",
     "output_type": "stream",
     "text": [
      "/tmp/ipykernel_9992/2177971450.py:2: FutureWarning: X.dtype being converted to np.float32 from int64. In the next version of anndata (0.9) conversion will not be automatic. Pass dtype explicitly to avoid this warning. Pass `AnnData(X, dtype=X.dtype, ...)` to get the future behavour.\n",
      "  ad_mult_rna = sc.AnnData(sps.csr_matrix(rna_count_mat[train_idx]), obs=meta_data.iloc[train_idx])\n",
      "/tmp/ipykernel_9992/2177971450.py:3: FutureWarning: X.dtype being converted to np.float32 from int64. In the next version of anndata (0.9) conversion will not be automatic. Pass dtype explicitly to avoid this warning. Pass `AnnData(X, dtype=X.dtype, ...)` to get the future behavour.\n",
      "  ad_mult_adt = sc.AnnData(sps.csr_matrix(adt_count_mat[train_idx]), obs=meta_data.iloc[train_idx])\n",
      "/tmp/ipykernel_9992/2177971450.py:4: FutureWarning: X.dtype being converted to np.float32 from int64. In the next version of anndata (0.9) conversion will not be automatic. Pass dtype explicitly to avoid this warning. Pass `AnnData(X, dtype=X.dtype, ...)` to get the future behavour.\n",
      "  ad_mult_atac = sc.AnnData(sps.csr_matrix(atac_count_mat[train_idx]), obs=meta_data.iloc[train_idx])\n"
     ]
    }
   ],
   "source": [
    "print('Reading `h5ad` files...')\n",
    "ad_mult_rna = sc.AnnData(sps.csr_matrix(rna_count_mat[train_idx]), obs=meta_data.iloc[train_idx])\n",
    "ad_mult_adt = sc.AnnData(sps.csr_matrix(adt_count_mat[train_idx]), obs=meta_data.iloc[train_idx])\n",
    "ad_mult_atac = sc.AnnData(sps.csr_matrix(atac_count_mat[train_idx]), obs=meta_data.iloc[train_idx])\n",
    "\n",
    "ad_mult_rna.var_names = rna_names\n",
    "ad_mult_adt.var_names = adt_names\n",
    "ad_mult_atac.var_names = atac_names\n",
    "\n",
    "ad_mult_rna.layers[\"counts\"] = ad_mult_rna.X.astype(np.float32)\n",
    "ad_mult_adt.layers[\"counts\"] = ad_mult_adt.X.astype(np.float32)\n",
    "ad_mult_atac.layers[\"counts\"] = ad_mult_atac.X.astype(np.float32)\n",
    "\n",
    "mod1_feature_type = 'GEX'\n",
    "mod2_feature_type = 'ADT'\n",
    "mod3_feature_type = 'ATAC'\n",
    "omics = 'cite'"
   ]
  },
  {
   "cell_type": "code",
   "execution_count": 8,
   "metadata": {},
   "outputs": [],
   "source": [
    "if omics == \"cite\":\n",
    "    n_genes = 5000\n",
    "    latent_dim = 20\n",
    "    x2u_h_depth = 2\n",
    "    x2u_h_dim = 512\n",
    "    u2x_h_depth = 1\n",
    "    u2x_h_dim = 128\n",
    "    du_h_depth = 2\n",
    "    du_h_dim = 128\n",
    "    dropout = 0.2\n",
    "    lam_data = 1.0\n",
    "    lam_kl = 1.0\n",
    "    lam_align = 2.0\n",
    "    lam_cross = 2.0\n",
    "    lam_cos = 1.0\n",
    "    normalize_u = True\n",
    "    random_seed = 5\n",
    "elif omics == \"multiome\":\n",
    "    n_genes = 10000\n",
    "    latent_dim = 50\n",
    "    x2u_h_depth = 2\n",
    "    x2u_h_dim = 512\n",
    "    u2x_h_depth = 1\n",
    "    u2x_h_dim = 256\n",
    "    du_h_depth = 1\n",
    "    du_h_dim = 256\n",
    "    dropout = 0.2\n",
    "    lam_data = 1.0\n",
    "    lam_kl = 0.3\n",
    "    lam_align = 0.02\n",
    "    lam_cross = 1.0\n",
    "    lam_cos = 0.02\n",
    "    normalize_u = True\n",
    "    random_seed = 2"
   ]
  },
  {
   "cell_type": "code",
   "execution_count": 9,
   "metadata": {},
   "outputs": [],
   "source": [
    "os.makedirs(par['output_pretrain'], exist_ok=True)\n",
    "with open(os.path.join(par['output_pretrain'], \"hyperparams.yaml\"), \"w\") as f:\n",
    "    yaml.dump({\n",
    "        \"n_genes\": n_genes,\n",
    "        \"latent_dim\": latent_dim,\n",
    "        \"x2u_h_depth\": x2u_h_depth,\n",
    "        \"x2u_h_dim\": x2u_h_dim,\n",
    "        \"u2x_h_depth\": u2x_h_depth,\n",
    "        \"u2x_h_dim\": u2x_h_dim,\n",
    "        \"du_h_depth\": du_h_depth,\n",
    "        \"du_h_dim\": du_h_dim,\n",
    "        \"dropout\": dropout,\n",
    "        \"lam_data\": lam_data,\n",
    "        \"lam_kl\": lam_kl,\n",
    "        \"lam_align\": lam_align,\n",
    "        \"lam_cross\": lam_cross,\n",
    "        \"lam_cos\": lam_cos,\n",
    "        \"normalize_u\": normalize_u,\n",
    "        \"random_seed\": random_seed\n",
    "    }, f)"
   ]
  },
  {
   "cell_type": "code",
   "execution_count": 10,
   "metadata": {},
   "outputs": [],
   "source": [
    "ad_mult_rna.obs[\"uid\"] = [f\"train-{i}\" for i in range(ad_mult_rna.shape[0])]\n",
    "ad_mult_adt.obs[\"uid\"] = [f\"train-{i}\" for i in range(ad_mult_adt.shape[0])]\n",
    "ad_mult_atac.obs[\"uid\"] = [f\"train-{i}\" for i in range(ad_mult_atac.shape[0])]\n",
    "\n",
    "ad_mult_rna.obs['domain'] = 'gex'\n",
    "ad_mult_adt.obs['domain'] = 'adt'\n",
    "ad_mult_atac.obs['domain'] = 'atac'\n",
    "ad_mult_rna.uns['domain'] = 'gex'\n",
    "ad_mult_adt.uns['domain'] = 'adt'\n",
    "ad_mult_atac.uns['domain'] = 'atac'"
   ]
  },
  {
   "cell_type": "code",
   "execution_count": 23,
   "metadata": {},
   "outputs": [
    {
     "name": "stdout",
     "output_type": "stream",
     "text": [
      "Preprocessing GEX...\n",
      "Preprocessing ADT...\n",
      "Preprocessing ATAC...\n"
     ]
    }
   ],
   "source": [
    "print('Preprocessing GEX...')\n",
    "gex_prep = utils.GEXPreprocessing(n_comps=100, n_genes=n_genes, merge_adt=False)\n",
    "gex_prep.fit_transform(ad_mult_rna)\n",
    "\n",
    "print('Preprocessing ADT...')\n",
    "adt_prep = utils.ADTPreprocessing(n_comps=100)\n",
    "\n",
    "print('Preprocessing ATAC...')\n",
    "atac_prep = utils.ATACPreprocessing(n_comps=100)\n",
    "    \n",
    "adt_prep.fit_transform(ad_mult_adt)\n",
    "atac_prep.fit_transform(ad_mult_atac)"
   ]
  },
  {
   "cell_type": "code",
   "execution_count": 24,
   "metadata": {},
   "outputs": [],
   "source": [
    "with open(os.path.join(par['output_pretrain'], \"prep.pickle\"), \"wb\") as f:\n",
    "    pickle.dump({\n",
    "        \"gex_prep\": gex_prep,\n",
    "        \"adt_prep\": adt_prep,\n",
    "        \"atac_prep\": atac_prep,\n",
    "    }, f)\n"
   ]
  },
  {
   "cell_type": "code",
   "execution_count": 25,
   "metadata": {},
   "outputs": [],
   "source": [
    "scglue.models.configure_dataset(\n",
    "    ad_mult_rna, \"NB\", use_highly_variable=True,\n",
    "    use_layer=\"counts\", use_rep=\"X_pca\",\n",
    "    use_batch=\"stim\", use_uid=\"uid\"\n",
    ")\n",
    "scglue.models.configure_dataset(\n",
    "    ad_mult_adt, \"NB\", use_highly_variable=True,\n",
    "    use_layer=\"counts\", use_rep=\"X_pca\",\n",
    "    use_batch=\"stim\", use_uid=\"uid\"\n",
    ")\n",
    "scglue.models.configure_dataset(\n",
    "    ad_mult_atac, \"NB\", use_highly_variable=True,\n",
    "    use_layer=\"counts\", use_rep=\"X_lsi\",\n",
    "    use_batch=\"stim\", use_uid=\"uid\"\n",
    ")"
   ]
  },
  {
   "cell_type": "code",
   "execution_count": 26,
   "metadata": {},
   "outputs": [
    {
     "name": "stdout",
     "output_type": "stream",
     "text": [
      "Building model...\n",
      "[INFO] autodevice: Using GPU 1 as computation device.\n"
     ]
    }
   ],
   "source": [
    "print('Building model...')\n",
    "model = scglue.models.SCCLUEModel(\n",
    "    {\"gex\": ad_mult_rna, \"adt\": ad_mult_adt, \"atac\":ad_mult_atac},\n",
    "    latent_dim=latent_dim,\n",
    "    x2u_h_depth=x2u_h_depth,\n",
    "    x2u_h_dim=x2u_h_dim,\n",
    "    u2x_h_depth=u2x_h_depth,\n",
    "    u2x_h_dim=u2x_h_dim,\n",
    "    du_h_depth=du_h_depth,\n",
    "    du_h_dim=du_h_dim,\n",
    "    dropout=dropout,\n",
    "    shared_batches=True,\n",
    "    random_seed=random_seed\n",
    ")\n",
    "\n",
    "training = True"
   ]
  },
  {
   "cell_type": "code",
   "execution_count": 27,
   "metadata": {},
   "outputs": [],
   "source": [
    "# loading pretrained weight\n",
    "# model = scglue.models.load_model(os.path.join(par['output_pretrain'], \"pretrain.dill\"))\n",
    "# training = False"
   ]
  },
  {
   "cell_type": "code",
   "execution_count": 28,
   "metadata": {},
   "outputs": [
    {
     "name": "stdout",
     "output_type": "stream",
     "text": [
      "Compiling model...\n"
     ]
    }
   ],
   "source": [
    "print('Compiling model...')\n",
    "model.compile(\n",
    "    lam_data=lam_data, lam_kl=lam_kl, lam_align=lam_align,\n",
    "    lam_cross=lam_cross, lam_cos=lam_cos, normalize_u=normalize_u,\n",
    "    domain_weight={\"gex\": 1, \"adt\": 1, 'atac':1}\n",
    ")"
   ]
  },
  {
   "cell_type": "code",
   "execution_count": 29,
   "metadata": {
    "collapsed": true,
    "jupyter": {
     "outputs_hidden": true
    }
   },
   "outputs": [
    {
     "name": "stdout",
     "output_type": "stream",
     "text": [
      "Training model...\n",
      "[INFO] SCCLUEModel: Setting `align_burnin` = 112\n",
      "[INFO] SCCLUEModel: Setting `max_epochs` = 672\n",
      "[INFO] SCCLUEModel: Setting `patience` = 84\n",
      "[INFO] SCCLUEModel: Setting `reduce_lr_patience` = 28\n",
      "[INFO] SCCLUETrainer: Using training directory: \"/tmp/GLUETMPzd26uju0\"\n",
      "[INFO] SCCLUETrainer: [Epoch 10] train={'dsc_loss': 1.098, 'gen_loss': 7.076, 'cross_loss': 2.941, 'cos_loss': 0.18, 'x_gex_nll': 0.373, 'x_gex_kl': 0.053, 'x_gex_elbo': 0.426, 'x_adt_nll': 1.651, 'x_adt_kl': 0.208, 'x_adt_elbo': 1.859, 'x_atac_nll': 0.917, 'x_atac_kl': 0.006, 'x_atac_elbo': 0.924}, val={'dsc_loss': 1.1, 'gen_loss': 6.799, 'cross_loss': 2.858, 'cos_loss': 0.167, 'x_gex_nll': 0.364, 'x_gex_kl': 0.052, 'x_gex_elbo': 0.416, 'x_adt_nll': 1.62, 'x_adt_kl': 0.211, 'x_adt_elbo': 1.831, 'x_atac_nll': 0.864, 'x_atac_kl': 0.006, 'x_atac_elbo': 0.87}, 12.5s elapsed\n",
      "[INFO] SCCLUETrainer: [Epoch 20] train={'dsc_loss': 1.097, 'gen_loss': 5.763, 'cross_loss': 2.514, 'cos_loss': 0.158, 'x_gex_nll': 0.313, 'x_gex_kl': 0.051, 'x_gex_elbo': 0.365, 'x_adt_nll': 1.497, 'x_adt_kl': 0.201, 'x_adt_elbo': 1.698, 'x_atac_nll': 0.703, 'x_atac_kl': 0.006, 'x_atac_elbo': 0.71}, val={'dsc_loss': 1.099, 'gen_loss': 5.685, 'cross_loss': 2.494, 'cos_loss': 0.162, 'x_gex_nll': 0.31, 'x_gex_kl': 0.052, 'x_gex_elbo': 0.362, 'x_adt_nll': 1.498, 'x_adt_kl': 0.197, 'x_adt_elbo': 1.694, 'x_atac_nll': 0.671, 'x_atac_kl': 0.006, 'x_atac_elbo': 0.677}, 12.5s elapsed\n",
      "[INFO] SCCLUETrainer: [Epoch 30] train={'dsc_loss': 1.098, 'gen_loss': 5.329, 'cross_loss': 2.371, 'cos_loss': 0.15, 'x_gex_nll': 0.296, 'x_gex_kl': 0.051, 'x_gex_elbo': 0.348, 'x_adt_nll': 1.45, 'x_adt_kl': 0.204, 'x_adt_elbo': 1.654, 'x_atac_nll': 0.626, 'x_atac_kl': 0.006, 'x_atac_elbo': 0.632}, val={'dsc_loss': 1.097, 'gen_loss': 5.249, 'cross_loss': 2.349, 'cos_loss': 0.155, 'x_gex_nll': 0.297, 'x_gex_kl': 0.051, 'x_gex_elbo': 0.348, 'x_adt_nll': 1.44, 'x_adt_kl': 0.199, 'x_adt_elbo': 1.638, 'x_atac_nll': 0.598, 'x_atac_kl': 0.006, 'x_atac_elbo': 0.604}, 12.2s elapsed\n",
      "[INFO] SCCLUETrainer: [Epoch 40] train={'dsc_loss': 1.097, 'gen_loss': 5.18, 'cross_loss': 2.319, 'cos_loss': 0.146, 'x_gex_nll': 0.294, 'x_gex_kl': 0.052, 'x_gex_elbo': 0.345, 'x_adt_nll': 1.434, 'x_adt_kl': 0.209, 'x_adt_elbo': 1.643, 'x_atac_nll': 0.595, 'x_atac_kl': 0.006, 'x_atac_elbo': 0.601}, val={'dsc_loss': 1.097, 'gen_loss': 5.116, 'cross_loss': 2.304, 'cos_loss': 0.151, 'x_gex_nll': 0.293, 'x_gex_kl': 0.051, 'x_gex_elbo': 0.344, 'x_adt_nll': 1.424, 'x_adt_kl': 0.205, 'x_adt_elbo': 1.63, 'x_atac_nll': 0.573, 'x_atac_kl': 0.006, 'x_atac_elbo': 0.579}, 12.3s elapsed\n",
      "[INFO] SCCLUETrainer: [Epoch 50] train={'dsc_loss': 1.097, 'gen_loss': 5.156, 'cross_loss': 2.311, 'cos_loss': 0.143, 'x_gex_nll': 0.293, 'x_gex_kl': 0.052, 'x_gex_elbo': 0.345, 'x_adt_nll': 1.427, 'x_adt_kl': 0.211, 'x_adt_elbo': 1.638, 'x_atac_nll': 0.595, 'x_atac_kl': 0.006, 'x_atac_elbo': 0.602}, val={'dsc_loss': 1.098, 'gen_loss': 5.102, 'cross_loss': 2.3, 'cos_loss': 0.15, 'x_gex_nll': 0.292, 'x_gex_kl': 0.051, 'x_gex_elbo': 0.343, 'x_adt_nll': 1.418, 'x_adt_kl': 0.208, 'x_adt_elbo': 1.626, 'x_atac_nll': 0.572, 'x_atac_kl': 0.006, 'x_atac_elbo': 0.579}, 12.4s elapsed\n",
      "[INFO] SCCLUETrainer: [Epoch 60] train={'dsc_loss': 1.098, 'gen_loss': 5.139, 'cross_loss': 2.305, 'cos_loss': 0.144, 'x_gex_nll': 0.293, 'x_gex_kl': 0.052, 'x_gex_elbo': 0.344, 'x_adt_nll': 1.424, 'x_adt_kl': 0.211, 'x_adt_elbo': 1.635, 'x_atac_nll': 0.594, 'x_atac_kl': 0.006, 'x_atac_elbo': 0.6}, val={'dsc_loss': 1.097, 'gen_loss': 5.111, 'cross_loss': 2.298, 'cos_loss': 0.156, 'x_gex_nll': 0.293, 'x_gex_kl': 0.051, 'x_gex_elbo': 0.343, 'x_adt_nll': 1.426, 'x_adt_kl': 0.205, 'x_adt_elbo': 1.631, 'x_atac_nll': 0.572, 'x_atac_kl': 0.006, 'x_atac_elbo': 0.578}, 12.4s elapsed\n",
      "[INFO] SCCLUETrainer: [Epoch 70] train={'dsc_loss': 1.098, 'gen_loss': 5.124, 'cross_loss': 2.3, 'cos_loss': 0.143, 'x_gex_nll': 0.292, 'x_gex_kl': 0.052, 'x_gex_elbo': 0.344, 'x_adt_nll': 1.42, 'x_adt_kl': 0.213, 'x_adt_elbo': 1.632, 'x_atac_nll': 0.594, 'x_atac_kl': 0.006, 'x_atac_elbo': 0.6}, val={'dsc_loss': 1.097, 'gen_loss': 5.104, 'cross_loss': 2.295, 'cos_loss': 0.154, 'x_gex_nll': 0.291, 'x_gex_kl': 0.052, 'x_gex_elbo': 0.343, 'x_adt_nll': 1.423, 'x_adt_kl': 0.209, 'x_adt_elbo': 1.632, 'x_atac_nll': 0.572, 'x_atac_kl': 0.006, 'x_atac_elbo': 0.578}, 12.3s elapsed\n",
      "[INFO] SCCLUETrainer: [Epoch 80] train={'dsc_loss': 1.098, 'gen_loss': 5.117, 'cross_loss': 2.296, 'cos_loss': 0.143, 'x_gex_nll': 0.292, 'x_gex_kl': 0.052, 'x_gex_elbo': 0.344, 'x_adt_nll': 1.417, 'x_adt_kl': 0.214, 'x_adt_elbo': 1.632, 'x_atac_nll': 0.594, 'x_atac_kl': 0.006, 'x_atac_elbo': 0.6}, val={'dsc_loss': 1.095, 'gen_loss': 5.095, 'cross_loss': 2.294, 'cos_loss': 0.151, 'x_gex_nll': 0.292, 'x_gex_kl': 0.051, 'x_gex_elbo': 0.343, 'x_adt_nll': 1.413, 'x_adt_kl': 0.212, 'x_adt_elbo': 1.625, 'x_atac_nll': 0.572, 'x_atac_kl': 0.006, 'x_atac_elbo': 0.578}, 12.1s elapsed\n",
      "[INFO] SCCLUETrainer: [Epoch 90] train={'dsc_loss': 1.097, 'gen_loss': 5.114, 'cross_loss': 2.294, 'cos_loss': 0.143, 'x_gex_nll': 0.292, 'x_gex_kl': 0.052, 'x_gex_elbo': 0.344, 'x_adt_nll': 1.416, 'x_adt_kl': 0.216, 'x_adt_elbo': 1.632, 'x_atac_nll': 0.594, 'x_atac_kl': 0.006, 'x_atac_elbo': 0.6}, val={'dsc_loss': 1.096, 'gen_loss': 5.093, 'cross_loss': 2.294, 'cos_loss': 0.148, 'x_gex_nll': 0.291, 'x_gex_kl': 0.052, 'x_gex_elbo': 0.343, 'x_adt_nll': 1.411, 'x_adt_kl': 0.215, 'x_adt_elbo': 1.626, 'x_atac_nll': 0.572, 'x_atac_kl': 0.006, 'x_atac_elbo': 0.578}, 12.8s elapsed\n",
      "[INFO] SCCLUETrainer: [Epoch 100] train={'dsc_loss': 1.097, 'gen_loss': 5.105, 'cross_loss': 2.291, 'cos_loss': 0.142, 'x_gex_nll': 0.292, 'x_gex_kl': 0.052, 'x_gex_elbo': 0.344, 'x_adt_nll': 1.414, 'x_adt_kl': 0.217, 'x_adt_elbo': 1.63, 'x_atac_nll': 0.594, 'x_atac_kl': 0.006, 'x_atac_elbo': 0.6}, val={'dsc_loss': 1.094, 'gen_loss': 5.094, 'cross_loss': 2.292, 'cos_loss': 0.155, 'x_gex_nll': 0.291, 'x_gex_kl': 0.052, 'x_gex_elbo': 0.343, 'x_adt_nll': 1.411, 'x_adt_kl': 0.211, 'x_adt_elbo': 1.622, 'x_atac_nll': 0.572, 'x_atac_kl': 0.006, 'x_atac_elbo': 0.578}, 12.3s elapsed\n",
      "[INFO] SCCLUETrainer: [Epoch 110] train={'dsc_loss': 1.098, 'gen_loss': 5.092, 'cross_loss': 2.287, 'cos_loss': 0.143, 'x_gex_nll': 0.291, 'x_gex_kl': 0.052, 'x_gex_elbo': 0.343, 'x_adt_nll': 1.411, 'x_adt_kl': 0.217, 'x_adt_elbo': 1.628, 'x_atac_nll': 0.594, 'x_atac_kl': 0.006, 'x_atac_elbo': 0.6}, val={'dsc_loss': 1.096, 'gen_loss': 5.089, 'cross_loss': 2.292, 'cos_loss': 0.148, 'x_gex_nll': 0.291, 'x_gex_kl': 0.052, 'x_gex_elbo': 0.343, 'x_adt_nll': 1.41, 'x_adt_kl': 0.217, 'x_adt_elbo': 1.627, 'x_atac_nll': 0.572, 'x_atac_kl': 0.006, 'x_atac_elbo': 0.578}, 12.2s elapsed\n",
      "[INFO] SCCLUETrainer: [Epoch 120] train={'dsc_loss': 1.097, 'gen_loss': 5.091, 'cross_loss': 2.286, 'cos_loss': 0.142, 'x_gex_nll': 0.291, 'x_gex_kl': 0.052, 'x_gex_elbo': 0.343, 'x_adt_nll': 1.411, 'x_adt_kl': 0.218, 'x_adt_elbo': 1.629, 'x_atac_nll': 0.593, 'x_atac_kl': 0.006, 'x_atac_elbo': 0.6}, val={'dsc_loss': 1.095, 'gen_loss': 5.097, 'cross_loss': 2.292, 'cos_loss': 0.149, 'x_gex_nll': 0.291, 'x_gex_kl': 0.053, 'x_gex_elbo': 0.344, 'x_adt_nll': 1.413, 'x_adt_kl': 0.219, 'x_adt_elbo': 1.632, 'x_atac_nll': 0.572, 'x_atac_kl': 0.006, 'x_atac_elbo': 0.579}, 12.1s elapsed\n",
      "[INFO] SCCLUETrainer: [Epoch 130] train={'dsc_loss': 1.097, 'gen_loss': 5.091, 'cross_loss': 2.285, 'cos_loss': 0.142, 'x_gex_nll': 0.291, 'x_gex_kl': 0.052, 'x_gex_elbo': 0.343, 'x_adt_nll': 1.41, 'x_adt_kl': 0.218, 'x_adt_elbo': 1.628, 'x_atac_nll': 0.594, 'x_atac_kl': 0.006, 'x_atac_elbo': 0.6}, val={'dsc_loss': 1.095, 'gen_loss': 5.093, 'cross_loss': 2.295, 'cos_loss': 0.15, 'x_gex_nll': 0.291, 'x_gex_kl': 0.053, 'x_gex_elbo': 0.343, 'x_adt_nll': 1.401, 'x_adt_kl': 0.219, 'x_adt_elbo': 1.62, 'x_atac_nll': 0.572, 'x_atac_kl': 0.006, 'x_atac_elbo': 0.578}, 12.2s elapsed\n",
      "[INFO] SCCLUETrainer: [Epoch 140] train={'dsc_loss': 1.098, 'gen_loss': 5.084, 'cross_loss': 2.283, 'cos_loss': 0.142, 'x_gex_nll': 0.291, 'x_gex_kl': 0.052, 'x_gex_elbo': 0.343, 'x_adt_nll': 1.409, 'x_adt_kl': 0.219, 'x_adt_elbo': 1.627, 'x_atac_nll': 0.593, 'x_atac_kl': 0.006, 'x_atac_elbo': 0.6}, val={'dsc_loss': 1.095, 'gen_loss': 5.11, 'cross_loss': 2.298, 'cos_loss': 0.165, 'x_gex_nll': 0.291, 'x_gex_kl': 0.05, 'x_gex_elbo': 0.341, 'x_adt_nll': 1.409, 'x_adt_kl': 0.21, 'x_adt_elbo': 1.619, 'x_atac_nll': 0.572, 'x_atac_kl': 0.006, 'x_atac_elbo': 0.578}, 12.0s elapsed\n",
      "[INFO] SCCLUETrainer: [Epoch 150] train={'dsc_loss': 1.098, 'gen_loss': 5.086, 'cross_loss': 2.283, 'cos_loss': 0.143, 'x_gex_nll': 0.291, 'x_gex_kl': 0.052, 'x_gex_elbo': 0.343, 'x_adt_nll': 1.408, 'x_adt_kl': 0.219, 'x_adt_elbo': 1.628, 'x_atac_nll': 0.594, 'x_atac_kl': 0.006, 'x_atac_elbo': 0.6}, val={'dsc_loss': 1.095, 'gen_loss': 5.089, 'cross_loss': 2.295, 'cos_loss': 0.154, 'x_gex_nll': 0.291, 'x_gex_kl': 0.052, 'x_gex_elbo': 0.343, 'x_adt_nll': 1.399, 'x_adt_kl': 0.216, 'x_adt_elbo': 1.614, 'x_atac_nll': 0.572, 'x_atac_kl': 0.006, 'x_atac_elbo': 0.578}, 12.1s elapsed\n",
      "Epoch 00152: reducing learning rate of group 0 to 2.0000e-04.\n",
      "Epoch 00152: reducing learning rate of group 0 to 2.0000e-04.\n",
      "[INFO] SCCLUETrainer: [Epoch 160] train={'dsc_loss': 1.098, 'gen_loss': 5.064, 'cross_loss': 2.277, 'cos_loss': 0.139, 'x_gex_nll': 0.29, 'x_gex_kl': 0.052, 'x_gex_elbo': 0.342, 'x_adt_nll': 1.405, 'x_adt_kl': 0.219, 'x_adt_elbo': 1.624, 'x_atac_nll': 0.594, 'x_atac_kl': 0.006, 'x_atac_elbo': 0.6}, val={'dsc_loss': 1.094, 'gen_loss': 5.088, 'cross_loss': 2.291, 'cos_loss': 0.154, 'x_gex_nll': 0.29, 'x_gex_kl': 0.052, 'x_gex_elbo': 0.342, 'x_adt_nll': 1.403, 'x_adt_kl': 0.216, 'x_adt_elbo': 1.62, 'x_atac_nll': 0.572, 'x_atac_kl': 0.006, 'x_atac_elbo': 0.578}, 12.0s elapsed\n",
      "[INFO] SCCLUETrainer: [Epoch 170] train={'dsc_loss': 1.098, 'gen_loss': 5.056, 'cross_loss': 2.275, 'cos_loss': 0.14, 'x_gex_nll': 0.29, 'x_gex_kl': 0.052, 'x_gex_elbo': 0.342, 'x_adt_nll': 1.403, 'x_adt_kl': 0.219, 'x_adt_elbo': 1.622, 'x_atac_nll': 0.593, 'x_atac_kl': 0.006, 'x_atac_elbo': 0.599}, val={'dsc_loss': 1.093, 'gen_loss': 5.085, 'cross_loss': 2.29, 'cos_loss': 0.154, 'x_gex_nll': 0.29, 'x_gex_kl': 0.052, 'x_gex_elbo': 0.342, 'x_adt_nll': 1.401, 'x_adt_kl': 0.218, 'x_adt_elbo': 1.619, 'x_atac_nll': 0.572, 'x_atac_kl': 0.006, 'x_atac_elbo': 0.578}, 11.9s elapsed\n",
      "[INFO] SCCLUETrainer: [Epoch 180] train={'dsc_loss': 1.098, 'gen_loss': 5.054, 'cross_loss': 2.274, 'cos_loss': 0.14, 'x_gex_nll': 0.29, 'x_gex_kl': 0.052, 'x_gex_elbo': 0.343, 'x_adt_nll': 1.403, 'x_adt_kl': 0.219, 'x_adt_elbo': 1.622, 'x_atac_nll': 0.593, 'x_atac_kl': 0.006, 'x_atac_elbo': 0.599}, val={'dsc_loss': 1.093, 'gen_loss': 5.085, 'cross_loss': 2.289, 'cos_loss': 0.157, 'x_gex_nll': 0.29, 'x_gex_kl': 0.051, 'x_gex_elbo': 0.342, 'x_adt_nll': 1.399, 'x_adt_kl': 0.218, 'x_adt_elbo': 1.617, 'x_atac_nll': 0.572, 'x_atac_kl': 0.006, 'x_atac_elbo': 0.578}, 12.2s elapsed\n",
      "[INFO] SCCLUETrainer: [Epoch 190] train={'dsc_loss': 1.098, 'gen_loss': 5.057, 'cross_loss': 2.274, 'cos_loss': 0.14, 'x_gex_nll': 0.29, 'x_gex_kl': 0.052, 'x_gex_elbo': 0.342, 'x_adt_nll': 1.403, 'x_adt_kl': 0.219, 'x_adt_elbo': 1.622, 'x_atac_nll': 0.594, 'x_atac_kl': 0.006, 'x_atac_elbo': 0.6}, val={'dsc_loss': 1.094, 'gen_loss': 5.087, 'cross_loss': 2.293, 'cos_loss': 0.154, 'x_gex_nll': 0.29, 'x_gex_kl': 0.052, 'x_gex_elbo': 0.342, 'x_adt_nll': 1.398, 'x_adt_kl': 0.217, 'x_adt_elbo': 1.615, 'x_atac_nll': 0.572, 'x_atac_kl': 0.006, 'x_atac_elbo': 0.578}, 12.1s elapsed\n",
      "Epoch 00195: reducing learning rate of group 0 to 2.0000e-05.\n",
      "Epoch 00195: reducing learning rate of group 0 to 2.0000e-05.\n",
      "[INFO] SCCLUETrainer: [Epoch 200] train={'dsc_loss': 1.098, 'gen_loss': 5.059, 'cross_loss': 2.275, 'cos_loss': 0.14, 'x_gex_nll': 0.29, 'x_gex_kl': 0.052, 'x_gex_elbo': 0.342, 'x_adt_nll': 1.403, 'x_adt_kl': 0.22, 'x_adt_elbo': 1.622, 'x_atac_nll': 0.594, 'x_atac_kl': 0.006, 'x_atac_elbo': 0.601}, val={'dsc_loss': 1.094, 'gen_loss': 5.085, 'cross_loss': 2.291, 'cos_loss': 0.153, 'x_gex_nll': 0.29, 'x_gex_kl': 0.052, 'x_gex_elbo': 0.342, 'x_adt_nll': 1.401, 'x_adt_kl': 0.218, 'x_adt_elbo': 1.618, 'x_atac_nll': 0.572, 'x_atac_kl': 0.006, 'x_atac_elbo': 0.578}, 12.1s elapsed\n",
      "[INFO] SCCLUETrainer: [Epoch 210] train={'dsc_loss': 1.098, 'gen_loss': 5.052, 'cross_loss': 2.273, 'cos_loss': 0.14, 'x_gex_nll': 0.29, 'x_gex_kl': 0.052, 'x_gex_elbo': 0.342, 'x_adt_nll': 1.401, 'x_adt_kl': 0.22, 'x_adt_elbo': 1.621, 'x_atac_nll': 0.593, 'x_atac_kl': 0.006, 'x_atac_elbo': 0.599}, val={'dsc_loss': 1.094, 'gen_loss': 5.088, 'cross_loss': 2.291, 'cos_loss': 0.157, 'x_gex_nll': 0.29, 'x_gex_kl': 0.052, 'x_gex_elbo': 0.342, 'x_adt_nll': 1.399, 'x_adt_kl': 0.218, 'x_adt_elbo': 1.616, 'x_atac_nll': 0.572, 'x_atac_kl': 0.006, 'x_atac_elbo': 0.578}, 11.9s elapsed\n",
      "[INFO] SCCLUETrainer: [Epoch 220] train={'dsc_loss': 1.098, 'gen_loss': 5.05, 'cross_loss': 2.272, 'cos_loss': 0.14, 'x_gex_nll': 0.29, 'x_gex_kl': 0.052, 'x_gex_elbo': 0.342, 'x_adt_nll': 1.401, 'x_adt_kl': 0.219, 'x_adt_elbo': 1.62, 'x_atac_nll': 0.593, 'x_atac_kl': 0.006, 'x_atac_elbo': 0.599}, val={'dsc_loss': 1.093, 'gen_loss': 5.089, 'cross_loss': 2.292, 'cos_loss': 0.155, 'x_gex_nll': 0.29, 'x_gex_kl': 0.052, 'x_gex_elbo': 0.342, 'x_adt_nll': 1.401, 'x_adt_kl': 0.217, 'x_adt_elbo': 1.618, 'x_atac_nll': 0.572, 'x_atac_kl': 0.006, 'x_atac_elbo': 0.578}, 12.0s elapsed\n",
      "Epoch 00224: reducing learning rate of group 0 to 2.0000e-06.\n",
      "Epoch 00224: reducing learning rate of group 0 to 2.0000e-06.\n",
      "[INFO] SCCLUETrainer: [Epoch 230] train={'dsc_loss': 1.098, 'gen_loss': 5.05, 'cross_loss': 2.272, 'cos_loss': 0.14, 'x_gex_nll': 0.29, 'x_gex_kl': 0.052, 'x_gex_elbo': 0.342, 'x_adt_nll': 1.4, 'x_adt_kl': 0.219, 'x_adt_elbo': 1.62, 'x_atac_nll': 0.593, 'x_atac_kl': 0.006, 'x_atac_elbo': 0.6}, val={'dsc_loss': 1.093, 'gen_loss': 5.082, 'cross_loss': 2.289, 'cos_loss': 0.155, 'x_gex_nll': 0.29, 'x_gex_kl': 0.052, 'x_gex_elbo': 0.342, 'x_adt_nll': 1.398, 'x_adt_kl': 0.217, 'x_adt_elbo': 1.616, 'x_atac_nll': 0.572, 'x_atac_kl': 0.006, 'x_atac_elbo': 0.578}, 12.2s elapsed\n",
      "[INFO] SCCLUETrainer: [Epoch 240] train={'dsc_loss': 1.098, 'gen_loss': 5.057, 'cross_loss': 2.275, 'cos_loss': 0.14, 'x_gex_nll': 0.29, 'x_gex_kl': 0.052, 'x_gex_elbo': 0.342, 'x_adt_nll': 1.402, 'x_adt_kl': 0.22, 'x_adt_elbo': 1.622, 'x_atac_nll': 0.594, 'x_atac_kl': 0.006, 'x_atac_elbo': 0.6}, val={'dsc_loss': 1.094, 'gen_loss': 5.087, 'cross_loss': 2.292, 'cos_loss': 0.155, 'x_gex_nll': 0.29, 'x_gex_kl': 0.052, 'x_gex_elbo': 0.342, 'x_adt_nll': 1.4, 'x_adt_kl': 0.217, 'x_adt_elbo': 1.617, 'x_atac_nll': 0.572, 'x_atac_kl': 0.006, 'x_atac_elbo': 0.578}, 12.1s elapsed\n",
      "[INFO] SCCLUETrainer: [Epoch 250] train={'dsc_loss': 1.098, 'gen_loss': 5.057, 'cross_loss': 2.274, 'cos_loss': 0.14, 'x_gex_nll': 0.29, 'x_gex_kl': 0.052, 'x_gex_elbo': 0.342, 'x_adt_nll': 1.403, 'x_adt_kl': 0.22, 'x_adt_elbo': 1.622, 'x_atac_nll': 0.594, 'x_atac_kl': 0.006, 'x_atac_elbo': 0.6}, val={'dsc_loss': 1.093, 'gen_loss': 5.087, 'cross_loss': 2.291, 'cos_loss': 0.153, 'x_gex_nll': 0.29, 'x_gex_kl': 0.052, 'x_gex_elbo': 0.342, 'x_adt_nll': 1.401, 'x_adt_kl': 0.218, 'x_adt_elbo': 1.619, 'x_atac_nll': 0.572, 'x_atac_kl': 0.006, 'x_atac_elbo': 0.578}, 12.3s elapsed\n",
      "Epoch 00253: reducing learning rate of group 0 to 2.0000e-07.\n",
      "Epoch 00253: reducing learning rate of group 0 to 2.0000e-07.\n",
      "[INFO] SCCLUETrainer: [Epoch 260] train={'dsc_loss': 1.098, 'gen_loss': 5.054, 'cross_loss': 2.273, 'cos_loss': 0.14, 'x_gex_nll': 0.29, 'x_gex_kl': 0.052, 'x_gex_elbo': 0.342, 'x_adt_nll': 1.403, 'x_adt_kl': 0.22, 'x_adt_elbo': 1.622, 'x_atac_nll': 0.593, 'x_atac_kl': 0.006, 'x_atac_elbo': 0.6}, val={'dsc_loss': 1.093, 'gen_loss': 5.084, 'cross_loss': 2.291, 'cos_loss': 0.154, 'x_gex_nll': 0.29, 'x_gex_kl': 0.052, 'x_gex_elbo': 0.342, 'x_adt_nll': 1.398, 'x_adt_kl': 0.218, 'x_adt_elbo': 1.616, 'x_atac_nll': 0.572, 'x_atac_kl': 0.006, 'x_atac_elbo': 0.578}, 12.1s elapsed\n",
      "[INFO] SCCLUETrainer: [Epoch 270] train={'dsc_loss': 1.098, 'gen_loss': 5.05, 'cross_loss': 2.272, 'cos_loss': 0.14, 'x_gex_nll': 0.29, 'x_gex_kl': 0.052, 'x_gex_elbo': 0.342, 'x_adt_nll': 1.401, 'x_adt_kl': 0.22, 'x_adt_elbo': 1.621, 'x_atac_nll': 0.593, 'x_atac_kl': 0.006, 'x_atac_elbo': 0.599}, val={'dsc_loss': 1.093, 'gen_loss': 5.088, 'cross_loss': 2.291, 'cos_loss': 0.156, 'x_gex_nll': 0.29, 'x_gex_kl': 0.052, 'x_gex_elbo': 0.342, 'x_adt_nll': 1.398, 'x_adt_kl': 0.217, 'x_adt_elbo': 1.616, 'x_atac_nll': 0.572, 'x_atac_kl': 0.006, 'x_atac_elbo': 0.578}, 12.0s elapsed\n",
      "[INFO] SCCLUETrainer: [Epoch 280] train={'dsc_loss': 1.098, 'gen_loss': 5.059, 'cross_loss': 2.275, 'cos_loss': 0.14, 'x_gex_nll': 0.29, 'x_gex_kl': 0.052, 'x_gex_elbo': 0.342, 'x_adt_nll': 1.403, 'x_adt_kl': 0.219, 'x_adt_elbo': 1.622, 'x_atac_nll': 0.594, 'x_atac_kl': 0.006, 'x_atac_elbo': 0.6}, val={'dsc_loss': 1.093, 'gen_loss': 5.083, 'cross_loss': 2.29, 'cos_loss': 0.155, 'x_gex_nll': 0.29, 'x_gex_kl': 0.052, 'x_gex_elbo': 0.342, 'x_adt_nll': 1.398, 'x_adt_kl': 0.218, 'x_adt_elbo': 1.616, 'x_atac_nll': 0.572, 'x_atac_kl': 0.006, 'x_atac_elbo': 0.578}, 11.9s elapsed\n",
      "Epoch 00282: reducing learning rate of group 0 to 2.0000e-08.\n",
      "Epoch 00282: reducing learning rate of group 0 to 2.0000e-08.\n",
      "[INFO] SCCLUETrainer: [Epoch 290] train={'dsc_loss': 1.098, 'gen_loss': 5.052, 'cross_loss': 2.273, 'cos_loss': 0.14, 'x_gex_nll': 0.29, 'x_gex_kl': 0.052, 'x_gex_elbo': 0.342, 'x_adt_nll': 1.402, 'x_adt_kl': 0.22, 'x_adt_elbo': 1.622, 'x_atac_nll': 0.593, 'x_atac_kl': 0.006, 'x_atac_elbo': 0.599}, val={'dsc_loss': 1.093, 'gen_loss': 5.084, 'cross_loss': 2.29, 'cos_loss': 0.155, 'x_gex_nll': 0.29, 'x_gex_kl': 0.052, 'x_gex_elbo': 0.342, 'x_adt_nll': 1.398, 'x_adt_kl': 0.218, 'x_adt_elbo': 1.616, 'x_atac_nll': 0.572, 'x_atac_kl': 0.006, 'x_atac_elbo': 0.578}, 11.9s elapsed\n",
      "[INFO] SCCLUETrainer: [Epoch 300] train={'dsc_loss': 1.098, 'gen_loss': 5.059, 'cross_loss': 2.275, 'cos_loss': 0.14, 'x_gex_nll': 0.29, 'x_gex_kl': 0.052, 'x_gex_elbo': 0.342, 'x_adt_nll': 1.403, 'x_adt_kl': 0.22, 'x_adt_elbo': 1.623, 'x_atac_nll': 0.594, 'x_atac_kl': 0.006, 'x_atac_elbo': 0.6}, val={'dsc_loss': 1.093, 'gen_loss': 5.085, 'cross_loss': 2.291, 'cos_loss': 0.155, 'x_gex_nll': 0.29, 'x_gex_kl': 0.052, 'x_gex_elbo': 0.342, 'x_adt_nll': 1.398, 'x_adt_kl': 0.217, 'x_adt_elbo': 1.615, 'x_atac_nll': 0.572, 'x_atac_kl': 0.006, 'x_atac_elbo': 0.578}, 11.7s elapsed\n",
      "[INFO] SCCLUETrainer: [Epoch 310] train={'dsc_loss': 1.098, 'gen_loss': 5.054, 'cross_loss': 2.274, 'cos_loss': 0.14, 'x_gex_nll': 0.29, 'x_gex_kl': 0.052, 'x_gex_elbo': 0.342, 'x_adt_nll': 1.403, 'x_adt_kl': 0.22, 'x_adt_elbo': 1.622, 'x_atac_nll': 0.593, 'x_atac_kl': 0.006, 'x_atac_elbo': 0.599}, val={'dsc_loss': 1.093, 'gen_loss': 5.087, 'cross_loss': 2.292, 'cos_loss': 0.156, 'x_gex_nll': 0.29, 'x_gex_kl': 0.052, 'x_gex_elbo': 0.342, 'x_adt_nll': 1.397, 'x_adt_kl': 0.217, 'x_adt_elbo': 1.614, 'x_atac_nll': 0.572, 'x_atac_kl': 0.006, 'x_atac_elbo': 0.578}, 12.2s elapsed\n",
      "Epoch 00311: reducing learning rate of group 0 to 2.0000e-09.\n",
      "Epoch 00311: reducing learning rate of group 0 to 2.0000e-09.\n"
     ]
    },
    {
     "name": "stderr",
     "output_type": "stream",
     "text": [
      "2023-08-02 13:16:46,717 ignite.handlers.early_stopping.EarlyStopping INFO: EarlyStopping: Stop training\n"
     ]
    },
    {
     "name": "stdout",
     "output_type": "stream",
     "text": [
      "[INFO] EarlyStopping: Restoring checkpoint \"305\"...\n",
      "[INFO] EarlyStopping: Restoring checkpoint \"305\"...\n"
     ]
    }
   ],
   "source": [
    "if training:\n",
    "    print('Training model...')\n",
    "    model.fit(\n",
    "        {\"gex\": ad_mult_rna, \"adt\": ad_mult_adt, \"atac\":ad_mult_atac}\n",
    "    )\n",
    "    model.save(os.path.join(par['output_pretrain'], \"pretrain.dill\"))"
   ]
  }
 ],
 "metadata": {
  "kernelspec": {
   "display_name": "torch112",
   "language": "python",
   "name": "torch112"
  },
  "language_info": {
   "codemirror_mode": {
    "name": "ipython",
    "version": 3
   },
   "file_extension": ".py",
   "mimetype": "text/x-python",
   "name": "python",
   "nbconvert_exporter": "python",
   "pygments_lexer": "ipython3",
   "version": "3.8.13"
  }
 },
 "nbformat": 4,
 "nbformat_minor": 4
}
