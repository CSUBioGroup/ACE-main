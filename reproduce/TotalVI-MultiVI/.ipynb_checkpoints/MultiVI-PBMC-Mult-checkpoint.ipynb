{
 "cells": [
  {
   "cell_type": "code",
   "execution_count": 1,
   "metadata": {},
   "outputs": [
    {
     "name": "stderr",
     "output_type": "stream",
     "text": [
      "Global seed set to 0\n"
     ]
    }
   ],
   "source": [
    "import os\n",
    "import sys\n",
    "os.environ[\"OMP_NUM_THREADS\"] = \"11\"\n",
    "os.environ[\"OPENBLAS_NUM_THREADS\"] = \"8\" # export OPENBLAS_NUM_THREADS=4 \n",
    "os.environ[\"MKL_NUM_THREADS\"] = \"11\" # export MKL_NUM_THREADS=6\n",
    "os.environ[\"VECLIB_MAXIMUM_THREADS\"] = \"8\" # export VECLIB_MAXIMUM_THREADS=4\n",
    "os.environ[\"NUMEXPR_NUM_THREADS\"] = \"11\" # export NUMEXPR_NUM_THREADS=6\n",
    "os.environ[\"NUMBA_CACHE_DIR\"]='/tmp/numba_cache'\n",
    "import numpy as np\n",
    "import pandas as pd\n",
    "import scipy as sp\n",
    "import scipy.sparse as sps\n",
    "import h5py\n",
    "\n",
    "import scvi\n",
    "import scanpy as sc\n",
    "import scipy.io as sio\n",
    "\n",
    "import matplotlib.pyplot as plt\n",
    "from os.path import join"
   ]
  },
  {
   "cell_type": "code",
   "execution_count": 2,
   "metadata": {},
   "outputs": [],
   "source": [
    "import scipy\n",
    "from sklearn.metrics import roc_auc_score\n",
    "def pearson_mat(X, Y):\n",
    "    X = (X - X.mean(axis=0))\n",
    "    X /= (scipy.linalg.norm(X, axis=0, ord=2) + 1e-12)\n",
    "    Y = (Y - Y.mean(axis=0))\n",
    "    Y /= (scipy.linalg.norm(Y, axis=0, ord=2) + 1e-12)\n",
    "    return (X * Y).sum(axis=0)\n",
    "\n",
    "def eval_pearRmse_AlongGene(X, Y):\n",
    "    pear = pearson_mat(X, Y)\n",
    "    rmse = np.sqrt(np.mean((X-Y)**2, axis=0))\n",
    "    return pear, rmse\n",
    "\n",
    "def eval_spear_AlongGene(X, Y):\n",
    "    spears = []\n",
    "    for gi in range(X.shape[1]):\n",
    "        spears.append(scipy.stats.spearmanr(X[:, gi], Y[:, gi])[0])\n",
    "    return spears\n",
    "\n",
    "def eval_aucRmse_AlongPeak(X, Y):\n",
    "    aucs, rmses = [], []\n",
    "    for pi in range(X.shape[1]):\n",
    "        aucs.append(roc_auc_score(X[:, pi], Y[:, pi]))\n",
    "        rmses.append(\n",
    "            np.sqrt(np.mean((X[:, pi] - Y[:, pi])**2))\n",
    "        )\n",
    "    return aucs, rmses\n",
    "\n",
    "def eval_imputation_flatten(x, y):\n",
    "    pearson_r, pearson_p = scipy.stats.pearsonr(x, y)\n",
    "    print(f\"Found pearson's correlation/p of {pearson_r:.4f}/{pearson_p:.4g}\")\n",
    "    spearman_corr, spearman_p = scipy.stats.spearmanr(x, y)\n",
    "    print(f\"Found spearman's collelation/p of {spearman_corr:.4f}/{spearman_p:.4g}\")\n",
    "    rmse = np.sqrt(np.mean((x - y)**2))\n",
    "    print(f\"Found rmse {rmse:.4f}\")\n",
    "    return pearson_r, spearman_corr, rmse"
   ]
  },
  {
   "cell_type": "code",
   "execution_count": 3,
   "metadata": {},
   "outputs": [],
   "source": [
    "data_dir = \"/home/sda1/yanxh/data/Seurat_demo_data/pbmc_multiome\"\n",
    "\n",
    "# print('Reading `mtx` files...')\n",
    "X = sps.csr_matrix(sio.mmread(join(data_dir, 'rna_mat_norm.mtx')).T)\n",
    "Y = sps.csr_matrix(sio.mmread(join(data_dir, 'atac_mat_norm.mtx')).T)\n",
    "# X_count = sps.csr_matrix(sio.mmread(join(data_dir, 'rna_mat_count.mtx')).T)\n",
    "\n",
    "rna_names = pd.read_csv(join(data_dir, 'gene_names.csv'))['x'].to_numpy()\n",
    "atac_names = pd.read_csv(join(data_dir, 'atac_names.csv'))['x'].to_numpy()\n",
    "\n",
    "cell_names = pd.read_csv(join(data_dir, 'cell_names.csv'))['x'].to_numpy()\n",
    "meta_data = pd.read_csv(join(data_dir, 'metadata.csv'), index_col=0)\n",
    "\n",
    "train_idx = pd.read_csv(join(data_dir, 'train_idx.csv'))['0'].to_numpy()\n",
    "test_idx  = pd.read_csv(join(data_dir, 'test_idx.csv'))['0'].to_numpy()\n",
    "\n",
    "# select hvg and hvp\n",
    "ad_rna = sc.AnnData(X, obs=meta_data.loc[cell_names])\n",
    "sc.pp.highly_variable_genes(ad_rna, n_top_genes=5000)\n",
    "hvg_idx = np.where(ad_rna.var.highly_variable)[0]\n",
    "\n",
    "# pick peak startwith chr1-23\n",
    "valid_atac_idx = [\n",
    "    _ for _ in range(len(atac_names)) \n",
    "    if atac_names[_].startswith('chr') and \n",
    "    not atac_names[_].startswith('chrX-') and \n",
    "    not atac_names[_].startswith('chrY-')\n",
    "]\n",
    "valid_atac_names = atac_names[valid_atac_idx]\n",
    "Y = Y[:, valid_atac_idx]\n",
    "\n",
    "hvp_idx = np.argsort(Y.sum(axis=0).A1)[-20000:]\n",
    "hvp_names = valid_atac_names[hvp_idx]"
   ]
  },
  {
   "cell_type": "code",
   "execution_count": 4,
   "metadata": {},
   "outputs": [],
   "source": [
    "mult_X = X[train_idx][:, hvg_idx].A\n",
    "mult_Y = (Y[train_idx][:, hvp_idx]>0).A.astype('float32')\n",
    "\n",
    "single_X = X[test_idx][:, hvg_idx].A\n",
    "single_Y = (Y[test_idx][:, hvp_idx] > 0).A.astype('float32')"
   ]
  },
  {
   "cell_type": "markdown",
   "metadata": {},
   "source": [
    "# ATAC->RNA"
   ]
  },
  {
   "cell_type": "code",
   "execution_count": 5,
   "metadata": {},
   "outputs": [
    {
     "name": "stderr",
     "output_type": "stream",
     "text": [
      "/home/yanxh/anaconda3/envs/torch112/lib/python3.8/site-packages/anndata/_core/anndata.py:1755: FutureWarning: The AnnData.concatenate method is deprecated in favour of the anndata.concat function. Please use anndata.concat instead.\n",
      "\n",
      "See the tutorial for concat at: https://anndata.readthedocs.io/en/latest/concatenation.html\n",
      "  warnings.warn(\n"
     ]
    },
    {
     "data": {
      "text/plain": [
       "366"
      ]
     },
     "execution_count": 5,
     "metadata": {},
     "output_type": "execute_result"
    }
   ],
   "source": [
    "adata_paired = sc.AnnData(np.c_[mult_X, mult_Y])\n",
    "# adata_paired.obs['batch'] = 'batch1'\n",
    "adata_paired.var['modality'] = ['gene']*hvg_idx.size + ['peak']*hvp_idx.size\n",
    "\n",
    "adata_atac = sc.AnnData(np.c_[np.zeros_like(single_X), single_Y])\n",
    "# adata_atac.obs['batch'] = 'batch2'\n",
    "adata_atac.var['modality'] = ['gene']*hvg_idx.size + ['peak']*hvp_idx.size\n",
    "\n",
    "adata = scvi.data.organize_multiome_anndatas(adata_paired, adata_atac)\n",
    "\n",
    "import gc\n",
    "del adata_atac, adata_paired\n",
    "gc.collect()"
   ]
  },
  {
   "cell_type": "code",
   "execution_count": 6,
   "metadata": {},
   "outputs": [
    {
     "name": "stderr",
     "output_type": "stream",
     "text": [
      "No GPU/TPU found, falling back to CPU. (Set TF_CPP_MIN_LOG_LEVEL=0 and rerun for more info.)\n",
      "/home/yanxh/anaconda3/envs/torch112/lib/python3.8/site-packages/scvi/data/fields/_layer_field.py:78: UserWarning: adata.X does not contain unnormalized count data. Are you sure this is what you want?\n",
      "  warnings.warn(\n"
     ]
    }
   ],
   "source": [
    "scvi.model.MULTIVI.setup_anndata(\n",
    "    adata, \n",
    "    batch_key=\"modality\",\n",
    "#     continuous_covariate_keys=['batch']\n",
    ")\n",
    "\n",
    "vae = scvi.model.MULTIVI(\n",
    "    adata, n_latent=32, gene_likelihood='nb',\n",
    "    n_genes=hvg_idx.size,\n",
    "    n_regions=hvp_idx.size,\n",
    ")"
   ]
  },
  {
   "cell_type": "code",
   "execution_count": 7,
   "metadata": {},
   "outputs": [],
   "source": [
    "# vae.train(\n",
    "#    train_size=0.9,\n",
    "#    early_stopping=15\n",
    "# )\n",
    "\n",
    "# vae.save('./MultiVI_checkpoint/pbmc-mult/atac2rna', overwrite=True)\n",
    "\n",
    "vae = scvi.model.MULTIVI.load('./MultiVI_checkpoint/pbmc-mult/atac2rna', adata)"
   ]
  },
  {
   "cell_type": "code",
   "execution_count": 8,
   "metadata": {},
   "outputs": [
    {
     "name": "stderr",
     "output_type": "stream",
     "text": [
      "/home/yanxh/anaconda3/envs/torch112/lib/python3.8/site-packages/scvi/module/_multivae.py:567: UserWarning: The use of `x.T` on tensors of dimension other than 2 to reverse their shape is deprecated and it will throw an error in a future release. Consider `x.mT` to transpose batches of matricesor `x.permute(*torch.arange(x.ndim - 1, -1, -1))` to reverse the dimensions of a tensor. (Triggered internally at  ../aten/src/ATen/native/TensorShape.cpp:2981.)\n",
      "  x = torch.where(mask_expr.T, x_expr.T, x_acc.T).T\n"
     ]
    }
   ],
   "source": [
    "imputed_expr = vae.get_normalized_expression()\n",
    "\n",
    "X_hat = np.log1p(imputed_expr.iloc[train_idx.size:].values * 1e4)"
   ]
  },
  {
   "cell_type": "code",
   "execution_count": 27,
   "metadata": {},
   "outputs": [
    {
     "name": "stdout",
     "output_type": "stream",
     "text": [
      "Found pearson's correlation/p of 0.5538/0\n",
      "Found spearman's collelation/p of 0.3408/0\n",
      "Found rmse 0.8116\n"
     ]
    },
    {
     "name": "stderr",
     "output_type": "stream",
     "text": [
      "/home/yanxh/anaconda3/envs/torch112/lib/python3.8/site-packages/scipy/stats/_stats_py.py:4881: ConstantInputWarning: An input array is constant; the correlation coefficient is not defined.\n",
      "  warnings.warn(stats.ConstantInputWarning(warn_msg))\n"
     ]
    },
    {
     "data": {
      "text/plain": [
       "(0.14448559890430912, nan)"
      ]
     },
     "execution_count": 27,
     "metadata": {},
     "output_type": "execute_result"
    }
   ],
   "source": [
    "pr, sr, rmse = eval_imputation_flatten(single_X.flatten(), X_hat.flatten())\n",
    "pear_along_gene, rmse_along_gene = eval_pearRmse_AlongGene(single_X, X_hat)\n",
    "spear_along_gene = eval_spear_AlongGene(single_X, X_hat)\n",
    "\n",
    "np.mean(pear_along_gene), np.mean(spear_along_gene) #, np.mean(rmse_along_gene)"
   ]
  },
  {
   "cell_type": "markdown",
   "metadata": {},
   "source": [
    "# RNA->ATAC"
   ]
  },
  {
   "cell_type": "code",
   "execution_count": 9,
   "metadata": {},
   "outputs": [
    {
     "name": "stderr",
     "output_type": "stream",
     "text": [
      "/home/yanxh/anaconda3/envs/torch112/lib/python3.8/site-packages/anndata/_core/anndata.py:1755: FutureWarning: The AnnData.concatenate method is deprecated in favour of the anndata.concat function. Please use anndata.concat instead.\n",
      "\n",
      "See the tutorial for concat at: https://anndata.readthedocs.io/en/latest/concatenation.html\n",
      "  warnings.warn(\n"
     ]
    },
    {
     "data": {
      "text/plain": [
       "293"
      ]
     },
     "execution_count": 9,
     "metadata": {},
     "output_type": "execute_result"
    }
   ],
   "source": [
    "adata_paired = sc.AnnData(np.c_[mult_X, mult_Y])\n",
    "# adata_paired.obs['batch'] = 'batch1'\n",
    "adata_paired.var['modality'] = ['gene']*hvg_idx.size + ['peak']*hvp_idx.size\n",
    "\n",
    "adata_rna = sc.AnnData(np.c_[single_X, np.zeros_like(single_Y)])\n",
    "# adata_atac.obs['batch'] = 'batch2'\n",
    "adata_rna.var['modality'] = ['gene']*hvg_idx.size + ['peak']*hvp_idx.size\n",
    "\n",
    "adata = scvi.data.organize_multiome_anndatas(adata_paired, adata_rna)\n",
    "\n",
    "import gc\n",
    "del adata_rna, adata_paired\n",
    "gc.collect()"
   ]
  },
  {
   "cell_type": "code",
   "execution_count": 10,
   "metadata": {},
   "outputs": [],
   "source": [
    "scvi.model.MULTIVI.setup_anndata(\n",
    "    adata, \n",
    "    batch_key=\"modality\",\n",
    "#     continuous_covariate_keys=['batch']\n",
    ")\n",
    "\n",
    "vae = scvi.model.MULTIVI(\n",
    "    adata, n_latent=32, gene_likelihood='nb',\n",
    "    n_genes=hvg_idx.size,\n",
    "    n_regions=hvp_idx.size,\n",
    ")\n",
    "\n",
    "# vae.train(\n",
    "#    train_size=0.9,\n",
    "#    early_stopping=15\n",
    "# )\n",
    "# vae.save('./MultiVI_checkpoint/pbmc-mult/rna2atac', overwrite=True)"
   ]
  },
  {
   "cell_type": "code",
   "execution_count": 11,
   "metadata": {},
   "outputs": [],
   "source": [
    "vae = scvi.model.MULTIVI.load('./MultiVI_checkpoint/pbmc-mult/rna2atac', adata)"
   ]
  },
  {
   "cell_type": "code",
   "execution_count": 12,
   "metadata": {},
   "outputs": [],
   "source": [
    "imputed_expr = vae.get_accessibility_estimates()\n",
    "Y_hat = imputed_expr.iloc[train_idx.size:].values"
   ]
  },
  {
   "cell_type": "code",
   "execution_count": 17,
   "metadata": {},
   "outputs": [
    {
     "data": {
      "text/plain": [
       "(0.7698606149294867, 0.6465899227375057)"
      ]
     },
     "execution_count": 17,
     "metadata": {},
     "output_type": "execute_result"
    }
   ],
   "source": [
    "auc = roc_auc_score(single_Y.flatten(), Y_hat.flatten())\n",
    "\n",
    "auc_along_peak, rmse_along_peak = eval_aucRmse_AlongPeak(single_Y, Y_hat)\n",
    "auc, np.mean(auc_along_peak) #, np.mean(rmse_along_peak)"
   ]
  },
  {
   "cell_type": "code",
   "execution_count": 41,
   "metadata": {},
   "outputs": [],
   "source": [
    "save_dir = '/home/yanxh/gitrepo/multi-omics-matching/Visualization/outputs/imputation'\n",
    "\n",
    "gene_metcs = np.vstack([pear_along_gene, spear_along_gene]).T\n",
    "_df1 = pd.DataFrame(gene_metcs, index=rna_names[hvg_idx], columns=['pear', 'spear'])\n",
    "_df1.to_csv(join(save_dir, 'MultiVI_pbmc-mult_along_gene.csv'))\n",
    "\n",
    "peak_metcs = auc_along_peak\n",
    "_df2 = pd.DataFrame(peak_metcs, index=hvp_names, columns=['auc'])\n",
    "_df2.to_csv(join(save_dir, 'MultiVI_pbmc-mult_along_peak.csv'))"
   ]
  }
 ],
 "metadata": {
  "kernelspec": {
   "display_name": "torch112",
   "language": "python",
   "name": "torch112"
  },
  "language_info": {
   "codemirror_mode": {
    "name": "ipython",
    "version": 3
   },
   "file_extension": ".py",
   "mimetype": "text/x-python",
   "name": "python",
   "nbconvert_exporter": "python",
   "pygments_lexer": "ipython3",
   "version": "3.8.13"
  }
 },
 "nbformat": 4,
 "nbformat_minor": 4
}
